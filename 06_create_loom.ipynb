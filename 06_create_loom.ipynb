{
 "cells": [
  {
   "cell_type": "code",
   "execution_count": 1,
   "id": "5526ba6b-0316-45d1-a9a1-d934f1d7e0a0",
   "metadata": {},
   "outputs": [
    {
     "name": "stderr",
     "output_type": "stream",
     "text": [
      "Attaching SeuratObject\n",
      "\n",
      "Warning message in asMethod(object):\n",
      "\"sparse->dense coercion: allocating vector of size 13.9 GiB\"\n"
     ]
    }
   ],
   "source": [
    "library(Seurat)\n",
    "sce=readRDS('/data/work/paper/monocle/Tcell_subnew.rds')\n",
    "setwd('/data/work/paper/scenic/')\n",
    "write.csv(t(as.matrix(sce@assays$RNA@counts)),file = \"sce_exp.csv\")"
   ]
  },
  {
   "cell_type": "code",
   "execution_count": null,
   "id": "2b9d0ff7-1a72-4a66-a1d5-649576f7f628",
   "metadata": {},
   "outputs": [],
   "source": [
    "adata.obs['sample'] = adata.obs['sample'].replace({'0': project1, '1': project2})\n",
    "adata.obs['sample']\n",
    "adata.var[\"mt\"] = adata.var_names.str.startswith(\"MT-\")\n",
    "sc.pp.calculate_qc_metrics(\n",
    "    adata, qc_vars=[\"mt\"], inplace=True, log1p=True\n",
    ")\n",
    "sc.pl.violin(\n",
    "    adata,\n",
    "    [\"n_genes_by_counts\", \"total_counts\", \"pct_counts_mt\"],\n",
    "    jitter=0.4,\n",
    "    multi_panel=True,\n",
    ")\n",
    "adata.write_h5ad(f\"/data/work/SF/all_sample/RA_{project}.h5ad\")"
   ]
  },
  {
   "cell_type": "code",
   "execution_count": null,
   "id": "e99511c0-e80e-4320-976a-9c7e3adc6e5f",
   "metadata": {},
   "outputs": [
    {
     "name": "stderr",
     "output_type": "stream",
     "text": [
      "Attaching SeuratObject\n",
      "\n",
      "\n",
      "Attaching package: 'dplyr'\n",
      "\n",
      "\n",
      "The following objects are masked from 'package:stats':\n",
      "\n",
      "    filter, lag\n",
      "\n",
      "\n",
      "The following objects are masked from 'package:base':\n",
      "\n",
      "    intersect, setdiff, setequal, union\n",
      "\n",
      "\n",
      "Warning message in asMethod(object):\n",
      "\"sparse->dense coercion: allocating vector of size 4.1 GiB\"\n"
     ]
    }
   ],
   "source": [
    "library(Seurat)\n",
    "library(dplyr)\n",
    "\n",
    "# 1. 读取数据\n",
    "sce <- readRDS('/data/work/final/03_anno/T_cell/T_02.rds')\n",
    "\n",
    "# 2. 创建Seurat对象并筛选高变基因\n",
    "seurat_obj <- CreateSeuratObject(counts = sce@assays$RNA@counts) %>%\n",
    "  NormalizeData() %>%\n",
    "  FindVariableFeatures(nfeatures = 5000)  # 选择5000个高变基因\n",
    "\n",
    "# 3. 提取高变基因的表达矩阵\n",
    "hvg_matrix <- GetAssayData(seurat_obj, slot = \"counts\")[VariableFeatures(seurat_obj), ]\n",
    "\n",
    "# 4. 设置工作目录并保存\n",
    "setwd('/data/work/final/06_scenic/T_cell')\n",
    "write.csv(t(as.matrix(hvg_matrix)), file = \"sce_exp_hvg5000.csv\")\n"
   ]
  },
  {
   "cell_type": "code",
   "execution_count": 1,
   "id": "e5e82285-5579-4312-86be-63bac59e1fba",
   "metadata": {
    "execution": {
     "iopub.execute_input": "2025-05-09T10:02:19.326852Z",
     "iopub.status.busy": "2025-05-09T10:02:19.321184Z",
     "iopub.status.idle": "2025-05-09T10:02:19.375904Z",
     "shell.execute_reply": "2025-05-09T10:02:19.374197Z"
    },
    "tags": []
   },
   "outputs": [
    {
     "ename": "ERROR",
     "evalue": "Error in library(SCopeLoomR): there is no package called ‘SCopeLoomR’\n",
     "output_type": "error",
     "traceback": [
      "Error in library(SCopeLoomR): there is no package called ‘SCopeLoomR’\nTraceback:\n",
      "1. library(SCopeLoomR)"
     ]
    }
   ],
   "source": [
    "library(SCopeLoomR)"
   ]
  },
  {
   "cell_type": "code",
   "execution_count": 1,
   "id": "24606dfd-f1a5-4c76-94eb-15c056e98dcd",
   "metadata": {
    "execution": {
     "iopub.execute_input": "2025-06-12T18:55:51.327489Z",
     "iopub.status.busy": "2025-06-12T18:55:51.320270Z",
     "iopub.status.idle": "2025-06-12T19:00:07.048514Z",
     "shell.execute_reply": "2025-06-12T19:00:07.043196Z"
    }
   },
   "outputs": [
    {
     "name": "stderr",
     "output_type": "stream",
     "text": [
      "Downloading GitHub repo aertslab/SCopeLoomR@HEAD\n",
      "\n"
     ]
    },
    {
     "name": "stdout",
     "output_type": "stream",
     "text": [
      "rlang      (1.0.6     -> 1.1.6    ) [CRAN]\n",
      "lifecycle  (1.0.3     -> 1.0.4    ) [CRAN]\n",
      "glue       (1.6.2     -> 1.8.0    ) [CRAN]\n",
      "cli        (3.6.0     -> 3.6.5    ) [CRAN]\n",
      "bit        (4.0.5     -> 4.6.0    ) [CRAN]\n",
      "data.table (1.14.8    -> 1.17.4   ) [CRAN]\n",
      "XML        (3.99-0.13 -> 3.99-0.18) [CRAN]\n",
      "jsonlite   (1.8.4     -> 2.0.0    ) [CRAN]\n",
      "yaml       (2.3.7     -> 2.3.10   ) [CRAN]\n",
      "Rcpp       (1.0.10    -> 1.0.14   ) [CRAN]\n",
      "cpp11      (0.4.3     -> 0.5.2    ) [CRAN]\n",
      "vctrs      (0.5.2     -> 0.6.5    ) [CRAN]\n",
      "bit64      (4.0.5     -> 4.6.0-1  ) [CRAN]\n",
      "R6         (2.5.1     -> 2.6.1    ) [CRAN]\n",
      "plyr       (1.8.8     -> 1.8.9    ) [CRAN]\n",
      "igraph     (1.4.1     -> 2.1.4    ) [CRAN]\n",
      "rjson      (0.2.21    -> 0.2.23   ) [CRAN]\n",
      "hdf5r      (NA        -> 1.3.12   ) [CRAN]\n"
     ]
    },
    {
     "name": "stderr",
     "output_type": "stream",
     "text": [
      "Installing 18 packages: rlang, lifecycle, glue, cli, bit, data.table, XML, jsonlite, yaml, Rcpp, cpp11, vctrs, bit64, R6, plyr, igraph, rjson, hdf5r\n",
      "\n",
      "Warning message in i.p(...):\n",
      "“installation of package ‘XML’ had non-zero exit status”\n",
      "Warning message in i.p(...):\n",
      "“installation of package ‘yaml’ had non-zero exit status”\n",
      "Warning message in i.p(...):\n",
      "“installation of package ‘rjson’ had non-zero exit status”\n",
      "Warning message in i.p(...):\n",
      "“installation of package ‘hdf5r’ had non-zero exit status”\n",
      "Warning message in i.p(...):\n",
      "“installation of package ‘igraph’ had non-zero exit status”\n",
      "Updating HTML index of packages in '.Library'\n",
      "\n",
      "Warning message in file.create(f.tg):\n",
      "“cannot create file '/opt/conda/lib/R/doc/html/packages.html', reason 'Permission denied'”\n",
      "Warning message in make.packages.html(.Library):\n",
      "“cannot update HTML package index”\n"
     ]
    },
    {
     "name": "stdout",
     "output_type": "stream",
     "text": [
      "* checking for file ‘/tmp/Rtmp4HkfD3/remotescf54a4e4a5/aertslab-SCopeLoomR-20f4e0a/DESCRIPTION’ ... OK\n",
      "* preparing ‘SCopeLoomR’:\n",
      "* checking DESCRIPTION meta-information ... OK\n",
      "* checking for LF line-endings in source and make files and shell scripts\n",
      "* checking for empty or unneeded directories\n",
      "* building ‘SCopeLoomR_0.13.0.tar.gz’\n",
      "Warning: invalid gid value replaced by that for user 'nobody'\n",
      "\n"
     ]
    },
    {
     "name": "stderr",
     "output_type": "stream",
     "text": [
      "Warning message in i.p(...):\n",
      "“installation of package ‘/tmp/Rtmp4HkfD3/filecf660ef149/SCopeLoomR_0.13.0.tar.gz’ had non-zero exit status”\n"
     ]
    }
   ],
   "source": [
    "devtools::install_github(\"aertslab/SCopeLoomR\")"
   ]
  },
  {
   "cell_type": "code",
   "execution_count": 2,
   "id": "17333266-81fa-4a17-b030-0b2ff2eae822",
   "metadata": {
    "execution": {
     "iopub.execute_input": "2025-06-12T19:02:00.919419Z",
     "iopub.status.busy": "2025-06-12T19:02:00.853110Z",
     "iopub.status.idle": "2025-06-12T19:02:00.985268Z",
     "shell.execute_reply": "2025-06-12T19:02:00.981829Z"
    },
    "tags": []
   },
   "outputs": [
    {
     "ename": "ERROR",
     "evalue": "Error in library(SCopeLoomR): there is no package called ‘SCopeLoomR’\n",
     "output_type": "error",
     "traceback": [
      "Error in library(SCopeLoomR): there is no package called ‘SCopeLoomR’\nTraceback:\n",
      "1. library(SCopeLoomR)"
     ]
    }
   ],
   "source": [
    "###可视化\n",
    "setwd(\"/data/work/final/06_scenic/T_cell\")\n",
    "#加载分析包\n",
    "library(SCopeLoomR)\n",
    "library(AUCell)\n",
    "library(SCENIC)\n",
    "#可视化相关包，多加载点没毛病\n",
    "library(dplyr)\n",
    "library(KernSmooth)\n",
    "library(RColorBrewer)\n",
    "library(plotly)\n",
    "library(BiocParallel)\n",
    "library(grid)\n",
    "library(ComplexHeatmap)\n",
    "library(data.table)\n",
    "library(ggplot2)\n",
    "library(pheatmap)"
   ]
  },
  {
   "cell_type": "code",
   "execution_count": null,
   "id": "c9736c15-4fa7-407e-aee8-bf25dc91a38f",
   "metadata": {},
   "outputs": [],
   "source": [
    "sce_SCENIC <- open_loom(\"sce_SCENIC.loom\")\n",
    "# exprMat <- get_dgem(sce_SCENIC)#从sce_SCENIC文件提取表达矩阵\n",
    "# exprMat_log <- log2(exprMat+1) # log处理\n",
    "regulons_incidMat <- get_regulons(sce_SCENIC, column.attr.name=\"Regulons\")\n",
    "regulons <- regulonsToGeneLists(regulons_incidMat)\n",
    "class(regulons)\n",
    "\n",
    "regulonAUC <- get_regulons_AUC(sce_SCENIC, column.attr.name='RegulonsAUC')\n",
    "regulonAucThresholds <- get_regulon_thresholds(sce_SCENIC)"
   ]
  }
 ],
 "metadata": {
  "kernelspec": {
   "display_name": "R",
   "language": "R",
   "name": "ir"
  },
  "language_info": {
   "codemirror_mode": "r",
   "file_extension": ".r",
   "mimetype": "text/x-r-source",
   "name": "R",
   "pygments_lexer": "r",
   "version": "4.2.2"
  }
 },
 "nbformat": 4,
 "nbformat_minor": 5
}
