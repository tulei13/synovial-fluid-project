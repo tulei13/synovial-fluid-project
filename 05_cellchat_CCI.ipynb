{
 "cells": [
  {
   "cell_type": "code",
   "execution_count": 1,
   "id": "cbb92e77-e83e-473e-8735-8c4e4980e4b8",
   "metadata": {
    "tags": []
   },
   "outputs": [
    {
     "name": "stderr",
     "output_type": "stream",
     "text": [
      "Attaching SeuratObject\n",
      "\n",
      "Warning message in system(\"timedatectl\", intern = TRUE):\n",
      "\"running command 'timedatectl' had status 1\"\n",
      "-- \u001b[1mAttaching packages\u001b[22m --------------------------------------- tidyverse 1.3.2 --\n",
      "\u001b[32mv\u001b[39m \u001b[34mggplot2\u001b[39m 3.4.0      \u001b[32mv\u001b[39m \u001b[34mpurrr  \u001b[39m 1.0.0 \n",
      "\u001b[32mv\u001b[39m \u001b[34mtibble \u001b[39m 3.1.8      \u001b[32mv\u001b[39m \u001b[34mdplyr  \u001b[39m 1.0.10\n",
      "\u001b[32mv\u001b[39m \u001b[34mtidyr  \u001b[39m 1.2.1      \u001b[32mv\u001b[39m \u001b[34mstringr\u001b[39m 1.5.0 \n",
      "\u001b[32mv\u001b[39m \u001b[34mreadr  \u001b[39m 2.1.3      \u001b[32mv\u001b[39m \u001b[34mforcats\u001b[39m 0.5.2 \n",
      "-- \u001b[1mConflicts\u001b[22m ------------------------------------------ tidyverse_conflicts() --\n",
      "\u001b[31mx\u001b[39m \u001b[34mdplyr\u001b[39m::\u001b[32mfilter()\u001b[39m masks \u001b[34mstats\u001b[39m::filter()\n",
      "\u001b[31mx\u001b[39m \u001b[34mdplyr\u001b[39m::\u001b[32mlag()\u001b[39m    masks \u001b[34mstats\u001b[39m::lag()\n"
     ]
    },
    {
     "ename": "ERROR",
     "evalue": "Error in library(CellChat): there is no package called 'CellChat'\n",
     "output_type": "error",
     "traceback": [
      "Error in library(CellChat): there is no package called 'CellChat'\nTraceback:\n",
      "1. library(CellChat)"
     ]
    }
   ],
   "source": [
    "library(Seurat)\n",
    "#library(SeuratData)\n",
    "library(tidyverse)\n",
    "library(CellChat)\n",
    "library(NMF)\n",
    "library(ggalluvial)\n",
    "library(patchwork)\n",
    "library(ggplot2)\n",
    "library(svglite)\n",
    "library(reticulate)\n",
    "#library(sceasy)"
   ]
  },
  {
   "cell_type": "code",
   "execution_count": null,
   "id": "69c5f8a9-f7af-4cc8-9d0e-e0062be542f3",
   "metadata": {
    "tags": []
   },
   "outputs": [],
   "source": [
    "pbmc3k.final <- readRDS(\"/data/work/final/09_stromal_integrate/integrate_stromal.rds\")\n",
    "adata=pbmc3k.final"
   ]
  },
  {
   "cell_type": "code",
   "execution_count": null,
   "id": "38fd047c-7cce-413b-be7a-fa295fd6d16c",
   "metadata": {
    "tags": []
   },
   "outputs": [],
   "source": [
    "library(dplyr)\n",
    "adata$annotation2 <- case_when(\n",
    "  adata$annotation2 == \"Tcm\" ~ \"Tn\",\n",
    "  #adata$annotation2 == \"Tn\" ~ \"Tcm\",\n",
    "  TRUE ~ as.character(adata$annotation2)  # 保留其他所有值\n",
    ") "
   ]
  },
  {
   "cell_type": "code",
   "execution_count": null,
   "id": "571bdb52-3284-4e73-8d62-315737d4f954",
   "metadata": {
    "tags": []
   },
   "outputs": [],
   "source": [
    "saveRDS(adata, file = \"/data/work/final/05_CCI/NMF5/NMF5.rds\")"
   ]
  },
  {
   "cell_type": "code",
   "execution_count": null,
   "id": "067b6c72-937d-4893-9938-568212d19899",
   "metadata": {
    "tags": []
   },
   "outputs": [],
   "source": [
    "seu=adata"
   ]
  },
  {
   "cell_type": "code",
   "execution_count": null,
   "id": "34325d9e-9990-4b55-95a2-140166cc6268",
   "metadata": {
    "tags": []
   },
   "outputs": [],
   "source": [
    "library(Seurat)\n",
    "\n",
    "# 2. 提取目标细胞类型\n",
    "target_types <- c('Endo_02', 'Macrophage_SPP1+', 'Tn', 'APOE+Macrophage',\n",
    "                 'Endo_04', 'Adipocyte', 'unknown_B', 'Macrophage_CCL4+')\n",
    "sub_seu <- subset(seu, annotation2 %in% target_types)\n",
    "\n",
    "# 保存为RDS\n",
    "saveRDS(sub_seu, file = \"/data/work/final/03_anno/new_h5ad/NMF5.rds\")\n"
   ]
  },
  {
   "cell_type": "code",
   "execution_count": null,
   "id": "430485aa-9e29-485f-a9c0-b4ecf8e33611",
   "metadata": {
    "tags": []
   },
   "outputs": [],
   "source": [
    "DimPlot(adata, \n",
    "        group.by = \"annotation2\",  # 使用你的细胞类型列名\n",
    "        reduction = \"umap\",        # 确保使用umap坐标\n",
    "        label = TRUE,             # 显示聚类标签\n",
    "        label.size = 4,           # 标签大小\n",
    "        repel = TRUE) +           # 防止标签重叠\n",
    "  ggtitle(\"UMAP of Selected Cell Types\") +\n",
    "  theme(plot.title = element_text(hjust = 0.5))  # 标题居中"
   ]
  },
  {
   "cell_type": "code",
   "execution_count": null,
   "id": "49819532-fda3-4d41-b75d-b993e72223ce",
   "metadata": {
    "tags": []
   },
   "outputs": [],
   "source": [
    "table(sub_seu$annotation2) "
   ]
  },
  {
   "cell_type": "code",
   "execution_count": 13,
   "id": "01e9287a-602b-4a5e-a0a0-9ce9d68fa7bf",
   "metadata": {
    "execution": {
     "iopub.execute_input": "2025-07-17T19:03:42.851525Z",
     "iopub.status.busy": "2025-07-17T19:03:42.849020Z",
     "iopub.status.idle": "2025-07-17T19:03:42.865906Z",
     "shell.execute_reply": "2025-07-17T19:03:42.864585Z"
    },
    "tags": []
   },
   "outputs": [
    {
     "name": "stdout",
     "output_type": "stream",
     "text": [
      "[1] \"finish\"\n"
     ]
    }
   ],
   "source": [
    "print('finish')"
   ]
  },
  {
   "cell_type": "code",
   "execution_count": 8,
   "id": "48b5bb73-498c-4087-bdc9-0e534e078434",
   "metadata": {
    "execution": {
     "iopub.execute_input": "2025-07-17T18:29:30.077170Z",
     "iopub.status.busy": "2025-07-17T18:29:30.075994Z",
     "iopub.status.idle": "2025-07-17T18:29:30.090556Z",
     "shell.execute_reply": "2025-07-17T18:29:30.089418Z"
    }
   },
   "outputs": [
    {
     "data": {
      "text/html": [
       "TRUE"
      ],
      "text/latex": [
       "TRUE"
      ],
      "text/markdown": [
       "TRUE"
      ],
      "text/plain": [
       "[1] TRUE"
      ]
     },
     "metadata": {},
     "output_type": "display_data"
    }
   ],
   "source": [
    "file.exists(\"/data/work/final/09_stromal_integrate/integrate_stromal.rds\")"
   ]
  },
  {
   "cell_type": "code",
   "execution_count": 2,
   "id": "bb848d9c-6c85-4016-bef8-47523791c1f2",
   "metadata": {
    "execution": {
     "iopub.execute_input": "2025-07-18T01:04:33.614904Z",
     "iopub.status.busy": "2025-07-18T01:04:33.587099Z",
     "iopub.status.idle": "2025-07-18T01:33:13.450092Z",
     "shell.execute_reply": "2025-07-18T01:33:13.448400Z"
    },
    "tags": []
   },
   "outputs": [
    {
     "data": {
      "text/html": [
       "<table class=\"dataframe\">\n",
       "<caption>A data.frame: 6 × 44</caption>\n",
       "<thead>\n",
       "\t<tr><th></th><th scope=col>orig.ident</th><th scope=col>state</th><th scope=col>tissue</th><th scope=col>location</th><th scope=col>nCount_RNA</th><th scope=col>nFeature_RNA</th><th scope=col>percent.mt</th><th scope=col>scDblFinder</th><th scope=col>contamination</th><th scope=col>leiden</th><th scope=col>⋯</th><th scope=col>age</th><th scope=col>age_period</th><th scope=col>X_scvi_batch</th><th scope=col>X_scvi_labels</th><th scope=col>leiden_res0.8</th><th scope=col>annotation1</th><th scope=col>annotation2</th><th scope=col>stage1</th><th scope=col>stage2</th><th scope=col>annotation3</th></tr>\n",
       "\t<tr><th></th><th scope=col>&lt;chr&gt;</th><th scope=col>&lt;chr&gt;</th><th scope=col>&lt;chr&gt;</th><th scope=col>&lt;chr&gt;</th><th scope=col>&lt;dbl&gt;</th><th scope=col>&lt;dbl&gt;</th><th scope=col>&lt;dbl&gt;</th><th scope=col>&lt;chr&gt;</th><th scope=col>&lt;dbl&gt;</th><th scope=col>&lt;int&gt;</th><th scope=col>⋯</th><th scope=col>&lt;dbl&gt;</th><th scope=col>&lt;chr&gt;</th><th scope=col>&lt;int&gt;</th><th scope=col>&lt;int&gt;</th><th scope=col>&lt;int&gt;</th><th scope=col>&lt;chr&gt;</th><th scope=col>&lt;chr&gt;</th><th scope=col>&lt;chr&gt;</th><th scope=col>&lt;chr&gt;</th><th scope=col>&lt;chr&gt;</th></tr>\n",
       "</thead>\n",
       "<tbody>\n",
       "\t<tr><th scope=row>GSM4626763_SY_113_AAACCTGAGGATCGCA-1-0</th><td>GSM4626763_SY_113</td><td>OA</td><td>Synovium</td><td>unknown</td><td>9020</td><td>2532</td><td>3.392461</td><td>singlet</td><td>0.009648653</td><td>38</td><td>⋯</td><td>NA</td><td></td><td>0</td><td>0</td><td>NA</td><td>nan</td><td>Fib-2          </td><td></td><td></td><td>Fibroblasts_tissue  </td></tr>\n",
       "\t<tr><th scope=row>GSM4626763_SY_113_AAACCTGCACACGCTG-1-0</th><td>GSM4626763_SY_113</td><td>OA</td><td>Synovium</td><td>unknown</td><td>5190</td><td>1787</td><td>4.123314</td><td>singlet</td><td>0.007528742</td><td>38</td><td>⋯</td><td>NA</td><td></td><td>0</td><td>0</td><td>NA</td><td>nan</td><td>preHTC         </td><td></td><td></td><td>Chondrocytes_tissue </td></tr>\n",
       "\t<tr><th scope=row>GSM4626763_SY_113_AAACCTGCATGCATGT-1-0</th><td>GSM4626763_SY_113</td><td>OA</td><td>Synovium</td><td>unknown</td><td>9921</td><td>2600</td><td>4.414878</td><td>singlet</td><td>0.075170694</td><td>38</td><td>⋯</td><td>NA</td><td></td><td>0</td><td>0</td><td>NA</td><td>nan</td><td>Fib-1          </td><td></td><td></td><td>Fibroblasts_tissue  </td></tr>\n",
       "\t<tr><th scope=row>GSM4626763_SY_113_AAACCTGCATGTCGAT-1-0</th><td>GSM4626763_SY_113</td><td>OA</td><td>Synovium</td><td>unknown</td><td>8313</td><td>2411</td><td>2.478046</td><td>singlet</td><td>0.008984677</td><td>38</td><td>⋯</td><td>NA</td><td></td><td>0</td><td>0</td><td>NA</td><td>nan</td><td>Fib-1          </td><td></td><td></td><td>Fibroblasts_tissue  </td></tr>\n",
       "\t<tr><th scope=row>GSM4626763_SY_113_AAACCTGGTAAATACG-1-0</th><td>GSM4626763_SY_113</td><td>OA</td><td>Synovium</td><td>unknown</td><td>5682</td><td>1817</td><td>3.854277</td><td>singlet</td><td>0.054221172</td><td>38</td><td>⋯</td><td>NA</td><td></td><td>0</td><td>0</td><td>NA</td><td>nan</td><td>Fib-1          </td><td></td><td></td><td>Fibroblasts_tissue  </td></tr>\n",
       "\t<tr><th scope=row>GSM4626763_SY_113_AAACCTGGTACGCACC-1-0</th><td>GSM4626763_SY_113</td><td>OA</td><td>Synovium</td><td>unknown</td><td>9122</td><td>2402</td><td>3.639553</td><td>singlet</td><td>0.153854753</td><td>93</td><td>⋯</td><td>NA</td><td></td><td>0</td><td>0</td><td>NA</td><td>nan</td><td>Dendritic cells</td><td></td><td></td><td>Myeloid cells_tissue</td></tr>\n",
       "</tbody>\n",
       "</table>\n"
      ],
      "text/latex": [
       "A data.frame: 6 × 44\n",
       "\\begin{tabular}{r|lllllllllllllllllllll}\n",
       "  & orig.ident & state & tissue & location & nCount\\_RNA & nFeature\\_RNA & percent.mt & scDblFinder & contamination & leiden & ⋯ & age & age\\_period & X\\_scvi\\_batch & X\\_scvi\\_labels & leiden\\_res0.8 & annotation1 & annotation2 & stage1 & stage2 & annotation3\\\\\n",
       "  & <chr> & <chr> & <chr> & <chr> & <dbl> & <dbl> & <dbl> & <chr> & <dbl> & <int> & ⋯ & <dbl> & <chr> & <int> & <int> & <int> & <chr> & <chr> & <chr> & <chr> & <chr>\\\\\n",
       "\\hline\n",
       "\tGSM4626763\\_SY\\_113\\_AAACCTGAGGATCGCA-1-0 & GSM4626763\\_SY\\_113 & OA & Synovium & unknown & 9020 & 2532 & 3.392461 & singlet & 0.009648653 & 38 & ⋯ & NA &  & 0 & 0 & NA & nan & Fib-2           &  &  & Fibroblasts\\_tissue  \\\\\n",
       "\tGSM4626763\\_SY\\_113\\_AAACCTGCACACGCTG-1-0 & GSM4626763\\_SY\\_113 & OA & Synovium & unknown & 5190 & 1787 & 4.123314 & singlet & 0.007528742 & 38 & ⋯ & NA &  & 0 & 0 & NA & nan & preHTC          &  &  & Chondrocytes\\_tissue \\\\\n",
       "\tGSM4626763\\_SY\\_113\\_AAACCTGCATGCATGT-1-0 & GSM4626763\\_SY\\_113 & OA & Synovium & unknown & 9921 & 2600 & 4.414878 & singlet & 0.075170694 & 38 & ⋯ & NA &  & 0 & 0 & NA & nan & Fib-1           &  &  & Fibroblasts\\_tissue  \\\\\n",
       "\tGSM4626763\\_SY\\_113\\_AAACCTGCATGTCGAT-1-0 & GSM4626763\\_SY\\_113 & OA & Synovium & unknown & 8313 & 2411 & 2.478046 & singlet & 0.008984677 & 38 & ⋯ & NA &  & 0 & 0 & NA & nan & Fib-1           &  &  & Fibroblasts\\_tissue  \\\\\n",
       "\tGSM4626763\\_SY\\_113\\_AAACCTGGTAAATACG-1-0 & GSM4626763\\_SY\\_113 & OA & Synovium & unknown & 5682 & 1817 & 3.854277 & singlet & 0.054221172 & 38 & ⋯ & NA &  & 0 & 0 & NA & nan & Fib-1           &  &  & Fibroblasts\\_tissue  \\\\\n",
       "\tGSM4626763\\_SY\\_113\\_AAACCTGGTACGCACC-1-0 & GSM4626763\\_SY\\_113 & OA & Synovium & unknown & 9122 & 2402 & 3.639553 & singlet & 0.153854753 & 93 & ⋯ & NA &  & 0 & 0 & NA & nan & Dendritic cells &  &  & Myeloid cells\\_tissue\\\\\n",
       "\\end{tabular}\n"
      ],
      "text/markdown": [
       "\n",
       "A data.frame: 6 × 44\n",
       "\n",
       "| <!--/--> | orig.ident &lt;chr&gt; | state &lt;chr&gt; | tissue &lt;chr&gt; | location &lt;chr&gt; | nCount_RNA &lt;dbl&gt; | nFeature_RNA &lt;dbl&gt; | percent.mt &lt;dbl&gt; | scDblFinder &lt;chr&gt; | contamination &lt;dbl&gt; | leiden &lt;int&gt; | ⋯ ⋯ | age &lt;dbl&gt; | age_period &lt;chr&gt; | X_scvi_batch &lt;int&gt; | X_scvi_labels &lt;int&gt; | leiden_res0.8 &lt;int&gt; | annotation1 &lt;chr&gt; | annotation2 &lt;chr&gt; | stage1 &lt;chr&gt; | stage2 &lt;chr&gt; | annotation3 &lt;chr&gt; |\n",
       "|---|---|---|---|---|---|---|---|---|---|---|---|---|---|---|---|---|---|---|---|---|---|\n",
       "| GSM4626763_SY_113_AAACCTGAGGATCGCA-1-0 | GSM4626763_SY_113 | OA | Synovium | unknown | 9020 | 2532 | 3.392461 | singlet | 0.009648653 | 38 | ⋯ | NA | <!----> | 0 | 0 | NA | nan | Fib-2           | <!----> | <!----> | Fibroblasts_tissue   |\n",
       "| GSM4626763_SY_113_AAACCTGCACACGCTG-1-0 | GSM4626763_SY_113 | OA | Synovium | unknown | 5190 | 1787 | 4.123314 | singlet | 0.007528742 | 38 | ⋯ | NA | <!----> | 0 | 0 | NA | nan | preHTC          | <!----> | <!----> | Chondrocytes_tissue  |\n",
       "| GSM4626763_SY_113_AAACCTGCATGCATGT-1-0 | GSM4626763_SY_113 | OA | Synovium | unknown | 9921 | 2600 | 4.414878 | singlet | 0.075170694 | 38 | ⋯ | NA | <!----> | 0 | 0 | NA | nan | Fib-1           | <!----> | <!----> | Fibroblasts_tissue   |\n",
       "| GSM4626763_SY_113_AAACCTGCATGTCGAT-1-0 | GSM4626763_SY_113 | OA | Synovium | unknown | 8313 | 2411 | 2.478046 | singlet | 0.008984677 | 38 | ⋯ | NA | <!----> | 0 | 0 | NA | nan | Fib-1           | <!----> | <!----> | Fibroblasts_tissue   |\n",
       "| GSM4626763_SY_113_AAACCTGGTAAATACG-1-0 | GSM4626763_SY_113 | OA | Synovium | unknown | 5682 | 1817 | 3.854277 | singlet | 0.054221172 | 38 | ⋯ | NA | <!----> | 0 | 0 | NA | nan | Fib-1           | <!----> | <!----> | Fibroblasts_tissue   |\n",
       "| GSM4626763_SY_113_AAACCTGGTACGCACC-1-0 | GSM4626763_SY_113 | OA | Synovium | unknown | 9122 | 2402 | 3.639553 | singlet | 0.153854753 | 93 | ⋯ | NA | <!----> | 0 | 0 | NA | nan | Dendritic cells | <!----> | <!----> | Myeloid cells_tissue |\n",
       "\n"
      ],
      "text/plain": [
       "                                       orig.ident        state tissue  \n",
       "GSM4626763_SY_113_AAACCTGAGGATCGCA-1-0 GSM4626763_SY_113 OA    Synovium\n",
       "GSM4626763_SY_113_AAACCTGCACACGCTG-1-0 GSM4626763_SY_113 OA    Synovium\n",
       "GSM4626763_SY_113_AAACCTGCATGCATGT-1-0 GSM4626763_SY_113 OA    Synovium\n",
       "GSM4626763_SY_113_AAACCTGCATGTCGAT-1-0 GSM4626763_SY_113 OA    Synovium\n",
       "GSM4626763_SY_113_AAACCTGGTAAATACG-1-0 GSM4626763_SY_113 OA    Synovium\n",
       "GSM4626763_SY_113_AAACCTGGTACGCACC-1-0 GSM4626763_SY_113 OA    Synovium\n",
       "                                       location nCount_RNA nFeature_RNA\n",
       "GSM4626763_SY_113_AAACCTGAGGATCGCA-1-0 unknown  9020       2532        \n",
       "GSM4626763_SY_113_AAACCTGCACACGCTG-1-0 unknown  5190       1787        \n",
       "GSM4626763_SY_113_AAACCTGCATGCATGT-1-0 unknown  9921       2600        \n",
       "GSM4626763_SY_113_AAACCTGCATGTCGAT-1-0 unknown  8313       2411        \n",
       "GSM4626763_SY_113_AAACCTGGTAAATACG-1-0 unknown  5682       1817        \n",
       "GSM4626763_SY_113_AAACCTGGTACGCACC-1-0 unknown  9122       2402        \n",
       "                                       percent.mt scDblFinder contamination\n",
       "GSM4626763_SY_113_AAACCTGAGGATCGCA-1-0 3.392461   singlet     0.009648653  \n",
       "GSM4626763_SY_113_AAACCTGCACACGCTG-1-0 4.123314   singlet     0.007528742  \n",
       "GSM4626763_SY_113_AAACCTGCATGCATGT-1-0 4.414878   singlet     0.075170694  \n",
       "GSM4626763_SY_113_AAACCTGCATGTCGAT-1-0 2.478046   singlet     0.008984677  \n",
       "GSM4626763_SY_113_AAACCTGGTAAATACG-1-0 3.854277   singlet     0.054221172  \n",
       "GSM4626763_SY_113_AAACCTGGTACGCACC-1-0 3.639553   singlet     0.153854753  \n",
       "                                       leiden ⋯ age age_period X_scvi_batch\n",
       "GSM4626763_SY_113_AAACCTGAGGATCGCA-1-0 38     ⋯ NA             0           \n",
       "GSM4626763_SY_113_AAACCTGCACACGCTG-1-0 38     ⋯ NA             0           \n",
       "GSM4626763_SY_113_AAACCTGCATGCATGT-1-0 38     ⋯ NA             0           \n",
       "GSM4626763_SY_113_AAACCTGCATGTCGAT-1-0 38     ⋯ NA             0           \n",
       "GSM4626763_SY_113_AAACCTGGTAAATACG-1-0 38     ⋯ NA             0           \n",
       "GSM4626763_SY_113_AAACCTGGTACGCACC-1-0 93     ⋯ NA             0           \n",
       "                                       X_scvi_labels leiden_res0.8 annotation1\n",
       "GSM4626763_SY_113_AAACCTGAGGATCGCA-1-0 0             NA            nan        \n",
       "GSM4626763_SY_113_AAACCTGCACACGCTG-1-0 0             NA            nan        \n",
       "GSM4626763_SY_113_AAACCTGCATGCATGT-1-0 0             NA            nan        \n",
       "GSM4626763_SY_113_AAACCTGCATGTCGAT-1-0 0             NA            nan        \n",
       "GSM4626763_SY_113_AAACCTGGTAAATACG-1-0 0             NA            nan        \n",
       "GSM4626763_SY_113_AAACCTGGTACGCACC-1-0 0             NA            nan        \n",
       "                                       annotation2     stage1 stage2\n",
       "GSM4626763_SY_113_AAACCTGAGGATCGCA-1-0 Fib-2                        \n",
       "GSM4626763_SY_113_AAACCTGCACACGCTG-1-0 preHTC                       \n",
       "GSM4626763_SY_113_AAACCTGCATGCATGT-1-0 Fib-1                        \n",
       "GSM4626763_SY_113_AAACCTGCATGTCGAT-1-0 Fib-1                        \n",
       "GSM4626763_SY_113_AAACCTGGTAAATACG-1-0 Fib-1                        \n",
       "GSM4626763_SY_113_AAACCTGGTACGCACC-1-0 Dendritic cells              \n",
       "                                       annotation3         \n",
       "GSM4626763_SY_113_AAACCTGAGGATCGCA-1-0 Fibroblasts_tissue  \n",
       "GSM4626763_SY_113_AAACCTGCACACGCTG-1-0 Chondrocytes_tissue \n",
       "GSM4626763_SY_113_AAACCTGCATGCATGT-1-0 Fibroblasts_tissue  \n",
       "GSM4626763_SY_113_AAACCTGCATGTCGAT-1-0 Fibroblasts_tissue  \n",
       "GSM4626763_SY_113_AAACCTGGTAAATACG-1-0 Fibroblasts_tissue  \n",
       "GSM4626763_SY_113_AAACCTGGTACGCACC-1-0 Myeloid cells_tissue"
      ]
     },
     "metadata": {},
     "output_type": "display_data"
    },
    {
     "data": {
      "text/html": [
       "<table class=\"dataframe\">\n",
       "<caption>A data.frame: 6 × 10</caption>\n",
       "<thead>\n",
       "\t<tr><th></th><th scope=col>X</th><th scope=col>name.0</th><th scope=col>highly_variable.0</th><th scope=col>means.0</th><th scope=col>dispersions.0</th><th scope=col>dispersions_norm.0</th><th scope=col>highly_variable_nbatches.0</th><th scope=col>highly_variable_intersection.0</th><th scope=col>mean.0</th><th scope=col>std.0</th></tr>\n",
       "\t<tr><th></th><th scope=col>&lt;chr&gt;</th><th scope=col>&lt;chr&gt;</th><th scope=col>&lt;chr&gt;</th><th scope=col>&lt;dbl&gt;</th><th scope=col>&lt;dbl&gt;</th><th scope=col>&lt;dbl&gt;</th><th scope=col>&lt;int&gt;</th><th scope=col>&lt;chr&gt;</th><th scope=col>&lt;dbl&gt;</th><th scope=col>&lt;dbl&gt;</th></tr>\n",
       "</thead>\n",
       "<tbody>\n",
       "\t<tr><th scope=row>1</th><td>AL627309.1</td><td>AL627309.1</td><td>False</td><td>0.002742019</td><td>0.56176711</td><td>-0.19164091</td><td> 9</td><td>False</td><td>0.001257946</td><td>0.03729616</td></tr>\n",
       "\t<tr><th scope=row>2</th><td>AP006222.2</td><td>AP006222.2</td><td>False</td><td>0.029796071</td><td>0.01018657</td><td>-0.08108594</td><td> 0</td><td>False</td><td>0.010098797</td><td>0.09025157</td></tr>\n",
       "\t<tr><th scope=row>3</th><td>FAM87B    </td><td>FAM87B    </td><td>False</td><td>0.005923956</td><td>0.54754334</td><td>-0.33971140</td><td> 8</td><td>False</td><td>0.003338611</td><td>0.05874401</td></tr>\n",
       "\t<tr><th scope=row>4</th><td>LINC00115 </td><td>LINC00115 </td><td>False</td><td>0.025058035</td><td>0.75282334</td><td> 0.10037223</td><td> 7</td><td>False</td><td>0.010590786</td><td>0.10414262</td></tr>\n",
       "\t<tr><th scope=row>5</th><td>FAM41C    </td><td>FAM41C    </td><td>False</td><td>0.015214400</td><td>0.58924442</td><td>-0.27292278</td><td> 4</td><td>False</td><td>0.007701378</td><td>0.08890291</td></tr>\n",
       "\t<tr><th scope=row>6</th><td>SAMD11    </td><td>SAMD11    </td><td>True </td><td>0.122290383</td><td>1.00673517</td><td> 0.68902990</td><td>24</td><td>False</td><td>0.060103043</td><td>0.26061552</td></tr>\n",
       "</tbody>\n",
       "</table>\n"
      ],
      "text/latex": [
       "A data.frame: 6 × 10\n",
       "\\begin{tabular}{r|llllllllll}\n",
       "  & X & name.0 & highly\\_variable.0 & means.0 & dispersions.0 & dispersions\\_norm.0 & highly\\_variable\\_nbatches.0 & highly\\_variable\\_intersection.0 & mean.0 & std.0\\\\\n",
       "  & <chr> & <chr> & <chr> & <dbl> & <dbl> & <dbl> & <int> & <chr> & <dbl> & <dbl>\\\\\n",
       "\\hline\n",
       "\t1 & AL627309.1 & AL627309.1 & False & 0.002742019 & 0.56176711 & -0.19164091 &  9 & False & 0.001257946 & 0.03729616\\\\\n",
       "\t2 & AP006222.2 & AP006222.2 & False & 0.029796071 & 0.01018657 & -0.08108594 &  0 & False & 0.010098797 & 0.09025157\\\\\n",
       "\t3 & FAM87B     & FAM87B     & False & 0.005923956 & 0.54754334 & -0.33971140 &  8 & False & 0.003338611 & 0.05874401\\\\\n",
       "\t4 & LINC00115  & LINC00115  & False & 0.025058035 & 0.75282334 &  0.10037223 &  7 & False & 0.010590786 & 0.10414262\\\\\n",
       "\t5 & FAM41C     & FAM41C     & False & 0.015214400 & 0.58924442 & -0.27292278 &  4 & False & 0.007701378 & 0.08890291\\\\\n",
       "\t6 & SAMD11     & SAMD11     & True  & 0.122290383 & 1.00673517 &  0.68902990 & 24 & False & 0.060103043 & 0.26061552\\\\\n",
       "\\end{tabular}\n"
      ],
      "text/markdown": [
       "\n",
       "A data.frame: 6 × 10\n",
       "\n",
       "| <!--/--> | X &lt;chr&gt; | name.0 &lt;chr&gt; | highly_variable.0 &lt;chr&gt; | means.0 &lt;dbl&gt; | dispersions.0 &lt;dbl&gt; | dispersions_norm.0 &lt;dbl&gt; | highly_variable_nbatches.0 &lt;int&gt; | highly_variable_intersection.0 &lt;chr&gt; | mean.0 &lt;dbl&gt; | std.0 &lt;dbl&gt; |\n",
       "|---|---|---|---|---|---|---|---|---|---|---|\n",
       "| 1 | AL627309.1 | AL627309.1 | False | 0.002742019 | 0.56176711 | -0.19164091 |  9 | False | 0.001257946 | 0.03729616 |\n",
       "| 2 | AP006222.2 | AP006222.2 | False | 0.029796071 | 0.01018657 | -0.08108594 |  0 | False | 0.010098797 | 0.09025157 |\n",
       "| 3 | FAM87B     | FAM87B     | False | 0.005923956 | 0.54754334 | -0.33971140 |  8 | False | 0.003338611 | 0.05874401 |\n",
       "| 4 | LINC00115  | LINC00115  | False | 0.025058035 | 0.75282334 |  0.10037223 |  7 | False | 0.010590786 | 0.10414262 |\n",
       "| 5 | FAM41C     | FAM41C     | False | 0.015214400 | 0.58924442 | -0.27292278 |  4 | False | 0.007701378 | 0.08890291 |\n",
       "| 6 | SAMD11     | SAMD11     | True  | 0.122290383 | 1.00673517 |  0.68902990 | 24 | False | 0.060103043 | 0.26061552 |\n",
       "\n"
      ],
      "text/plain": [
       "  X          name.0     highly_variable.0 means.0     dispersions.0\n",
       "1 AL627309.1 AL627309.1 False             0.002742019 0.56176711   \n",
       "2 AP006222.2 AP006222.2 False             0.029796071 0.01018657   \n",
       "3 FAM87B     FAM87B     False             0.005923956 0.54754334   \n",
       "4 LINC00115  LINC00115  False             0.025058035 0.75282334   \n",
       "5 FAM41C     FAM41C     False             0.015214400 0.58924442   \n",
       "6 SAMD11     SAMD11     True              0.122290383 1.00673517   \n",
       "  dispersions_norm.0 highly_variable_nbatches.0 highly_variable_intersection.0\n",
       "1 -0.19164091         9                         False                         \n",
       "2 -0.08108594         0                         False                         \n",
       "3 -0.33971140         8                         False                         \n",
       "4  0.10037223         7                         False                         \n",
       "5 -0.27292278         4                         False                         \n",
       "6  0.68902990        24                         False                         \n",
       "  mean.0      std.0     \n",
       "1 0.001257946 0.03729616\n",
       "2 0.010098797 0.09025157\n",
       "3 0.003338611 0.05874401\n",
       "4 0.010590786 0.10414262\n",
       "5 0.007701378 0.08890291\n",
       "6 0.060103043 0.26061552"
      ]
     },
     "metadata": {},
     "output_type": "display_data"
    },
    {
     "data": {
      "text/plain": [
       "6 x 9 sparse Matrix of class \"dgTMatrix\"\n",
       "                                              \n",
       "[1,] .         .         . . .         . . . .\n",
       "[2,] 0.3206949 0.5039151 . . 0.4796153 . . . .\n",
       "[3,] .         .         . . .         . . . .\n",
       "[4,] .         .         . . .         . . . .\n",
       "[5,] .         .         . . .         . . . .\n",
       "[6,] .         .         . . .         . . . ."
      ]
     },
     "metadata": {},
     "output_type": "display_data"
    },
    {
     "data": {
      "text/html": [
       "<style>\n",
       ".list-inline {list-style: none; margin:0; padding: 0}\n",
       ".list-inline>li {display: inline-block}\n",
       ".list-inline>li:not(:last-child)::after {content: \"\\00b7\"; padding: 0 .5ex}\n",
       "</style>\n",
       "<ol class=list-inline><li>38308</li><li>799834</li></ol>\n"
      ],
      "text/latex": [
       "\\begin{enumerate*}\n",
       "\\item 38308\n",
       "\\item 799834\n",
       "\\end{enumerate*}\n"
      ],
      "text/markdown": [
       "1. 38308\n",
       "2. 799834\n",
       "\n",
       "\n"
      ],
      "text/plain": [
       "[1]  38308 799834"
      ]
     },
     "metadata": {},
     "output_type": "display_data"
    },
    {
     "data": {
      "text/html": [
       "<style>\n",
       ".list-inline {list-style: none; margin:0; padding: 0}\n",
       ".list-inline>li {display: inline-block}\n",
       ".list-inline>li:not(:last-child)::after {content: \"\\00b7\"; padding: 0 .5ex}\n",
       "</style>\n",
       "<ol class=list-inline><li>'AL627309.1'</li><li>'AP006222.2'</li><li>'FAM87B'</li><li>'LINC00115'</li><li>'FAM41C'</li><li>'SAMD11'</li></ol>\n"
      ],
      "text/latex": [
       "\\begin{enumerate*}\n",
       "\\item 'AL627309.1'\n",
       "\\item 'AP006222.2'\n",
       "\\item 'FAM87B'\n",
       "\\item 'LINC00115'\n",
       "\\item 'FAM41C'\n",
       "\\item 'SAMD11'\n",
       "\\end{enumerate*}\n"
      ],
      "text/markdown": [
       "1. 'AL627309.1'\n",
       "2. 'AP006222.2'\n",
       "3. 'FAM87B'\n",
       "4. 'LINC00115'\n",
       "5. 'FAM41C'\n",
       "6. 'SAMD11'\n",
       "\n",
       "\n"
      ],
      "text/plain": [
       "[1] \"AL627309.1\" \"AP006222.2\" \"FAM87B\"     \"LINC00115\"  \"FAM41C\"    \n",
       "[6] \"SAMD11\"    "
      ]
     },
     "metadata": {},
     "output_type": "display_data"
    }
   ],
   "source": [
    "library(Seurat)\n",
    "setwd('/data/work/final/09_stromal_integrate')\n",
    "cellinfo=read.csv(\"cellinfo.csv\",row.names = \"X\")\n",
    "head(cellinfo)\n",
    "geneinfo=read.csv(\"geneinfo.csv\",row.names=NULL)\n",
    "head(geneinfo)\n",
    "#geneinfo=geneinfo[,c(2,3)]\n",
    "#head(geneinfo)\n",
    "#counts=ReadMtx(mtx = \"D:/project/xeno/anno/sparse_matrix.mtx\",cells = \"./cellinfo.csv\",features = \"./geneinfo.csv\")\n",
    "counts=Matrix::readMM(file = \"sparse_matrix.mtx\")\n",
    "head(counts)[,1:9]\n",
    "dim(counts)\n",
    "first_column <- geneinfo[, 1]\n",
    "head(first_column)\n",
    "rownames(counts)=first_column\n",
    "colnames(counts)=rownames(cellinfo)\n",
    "##CreateSeuratObject\n",
    "pbmc3k.final=CreateSeuratObject(counts = counts,meta.data = cellinfo)"
   ]
  },
  {
   "cell_type": "code",
   "execution_count": null,
   "id": "744c6835-6d4f-4a6e-a361-28fc62ba6fc2",
   "metadata": {
    "execution": {
     "iopub.execute_input": "2025-07-18T01:33:13.453228Z",
     "iopub.status.busy": "2025-07-18T01:33:13.452224Z",
     "iopub.status.idle": "2025-07-18T01:33:34.551243Z"
    }
   },
   "outputs": [],
   "source": [
    "pbmc3k.final=subset(pbmc3k.final,downsample=200000,seed=123)"
   ]
  },
  {
   "cell_type": "code",
   "execution_count": null,
   "id": "21241388-a412-4ac7-b4d6-22693ac018e6",
   "metadata": {
    "execution": {
     "iopub.execute_input": "2025-07-18T01:33:34.613763Z",
     "iopub.status.busy": "2025-07-18T01:33:34.612663Z",
     "iopub.status.idle": "2025-07-18T01:33:34.624764Z"
    },
    "tags": []
   },
   "outputs": [],
   "source": [
    "setwd('/data/work/final/09_stromal_integrate/CCI')"
   ]
  },
  {
   "cell_type": "code",
   "execution_count": null,
   "id": "20a43d11-ebb4-4505-bc78-4773ad1939a9",
   "metadata": {
    "execution": {
     "iopub.execute_input": "2025-07-18T01:33:34.641218Z",
     "iopub.status.busy": "2025-07-18T01:33:34.640179Z",
     "iopub.status.idle": "2025-07-18T01:33:35.806041Z"
    },
    "tags": []
   },
   "outputs": [
    {
     "name": "stdout",
     "output_type": "stream",
     "text": [
      "[1] \"Create a CellChat object from a Seurat object\"\n",
      "The `data` slot in the default assay is used. The default assay is RNA \n",
      "The `meta.data` slot in the Seurat object is used as cell meta information \n",
      "Set cell identities for the new CellChat object \n",
      "The cell groups used for CellChat analysis are  B cell_fluid B/Plasma cells_tissue Chondrocytes_tissue DC_fluid Endothelial cells_tissue Endothelial_fluid Fibroblast_fluid Fibroblasts_tissue Macrophage_fluid Mast cell_fluid Mast cells_tissue Monocyte_fluid Mural cells_tissue Myeloid cells_tissue Neotrophil_fluid NK cell_fluid Osteoblast_fluid Osteoclast_fluid Red Blood cells_tissue T cell_fluid T/NK cells_tissue \n"
     ]
    },
    {
     "data": {
      "text/plain": [
       "An object of class CellChat created from a single dataset \n",
       " 38308 genes.\n",
       " 200000 cells. \n",
       "CellChat analysis of single cell RNA-seq data! "
      ]
     },
     "metadata": {},
     "output_type": "display_data"
    },
    {
     "data": {
      "text/plain": [
       "  Length    Class     Mode \n",
       "       1 CellChat       S4 "
      ]
     },
     "metadata": {},
     "output_type": "display_data"
    },
    {
     "name": "stdout",
     "output_type": "stream",
     "text": [
      "Formal class 'CellChat' [package \"CellChat\"] with 15 slots\n",
      "  ..@ data.raw      : num[0 , 0 ] \n",
      "  ..@ data          :Formal class 'dgCMatrix' [package \"Matrix\"] with 6 slots\n",
      "  .. .. ..@ i       : int [1:393856599] 16 24 26 47 66 68 73 88 89 93 ...\n",
      "  .. .. ..@ p       : int [1:200001] 0 2250 3752 5857 7823 10512 13042 15124 17417 19991 ...\n",
      "  .. .. ..@ Dim     : int [1:2] 38308 200000\n",
      "  .. .. ..@ Dimnames:List of 2\n",
      "  .. .. .. ..$ : chr [1:38308] \"AL627309.1\" \"AP006222.2\" \"FAM87B\" \"LINC00115\" ...\n",
      "  .. .. .. ..$ : chr [1:200000] \"GSM4626763_SY_113_AAACCTGCATGTCGAT-1-0\" \"GSM4626763_SY_113_AAACCTGTCCTGTAGA-1-0\" \"GSM4626763_SY_113_AAACGGGAGAGCCCAA-1-0\" \"GSM4626763_SY_113_AAACGGGTCCTCAACC-1-0\" ...\n",
      "  .. .. ..@ x       : num [1:393856599] 0.338 0.338 0.338 0.338 0.338 ...\n",
      "  .. .. ..@ factors : list()\n",
      "  ..@ data.signaling: num[0 , 0 ] \n",
      "  ..@ data.scale    : num[0 , 0 ] \n",
      "  ..@ data.project  : num[0 , 0 ] \n",
      "  ..@ images        : list()\n",
      "  ..@ net           : list()\n",
      "  ..@ netP          : list()\n",
      "  ..@ meta          :'data.frame':\t200000 obs. of  45 variables:\n",
      "  .. ..$ orig.ident                 : chr [1:200000] \"GSM4626763_SY_113\" \"GSM4626763_SY_113\" \"GSM4626763_SY_113\" \"GSM4626763_SY_113\" ...\n",
      "  .. ..$ nCount_RNA                 : num [1:200000] 1115 1031 1098 1064 1127 ...\n",
      "  .. ..$ nFeature_RNA               : int [1:200000] 2250 1502 2105 1966 2689 2530 2082 2293 2574 2371 ...\n",
      "  .. ..$ state                      : chr [1:200000] \"OA\" \"OA\" \"OA\" \"OA\" ...\n",
      "  .. ..$ tissue                     : chr [1:200000] \"Synovium\" \"Synovium\" \"Synovium\" \"Synovium\" ...\n",
      "  .. ..$ location                   : chr [1:200000] \"unknown\" \"unknown\" \"unknown\" \"unknown\" ...\n",
      "  .. ..$ percent.mt                 : num [1:200000] 2.478 0.912 2.674 4.219 4.16 ...\n",
      "  .. ..$ scDblFinder                : chr [1:200000] \"singlet\" \"singlet\" \"singlet\" \"singlet\" ...\n",
      "  .. ..$ contamination              : num [1:200000] 0.00898 0.06031 0.02461 0.00923 0.04689 ...\n",
      "  .. ..$ leiden                     : int [1:200000] 38 93 38 38 38 38 38 38 38 38 ...\n",
      "  .. ..$ r1.5                       : int [1:200000] 5 11 0 0 5 5 0 5 0 13 ...\n",
      "  .. ..$ r1.0                       : int [1:200000] 6 10 0 0 6 6 0 6 0 0 ...\n",
      "  .. ..$ r1.8                       : int [1:200000] 5 13 3 9 5 5 9 5 3 9 ...\n",
      "  .. ..$ r2.0                       : int [1:200000] 4 12 3 8 4 4 8 4 3 8 ...\n",
      "  .. ..$ anno1                      : chr [1:200000] \"Fibroblasts\" \"Myeloid cells\" \"Fibroblasts\" \"Fibroblasts\" ...\n",
      "  .. ..$ tissue_state               : chr [1:200000] \"Synovium_OA\" \"Synovium_OA\" \"Synovium_OA\" \"Synovium_OA\" ...\n",
      "  .. ..$ subanno                    : chr [1:200000] \"Fib-1\" \"Macrophage\" \"Fib-3\" \"Fib-2\" ...\n",
      "  .. ..$ sample                     : int [1:200000] 0 0 0 0 0 0 0 0 0 0 ...\n",
      "  .. ..$ from                       : chr [1:200000] \"tissue\" \"tissue\" \"tissue\" \"tissue\" ...\n",
      "  .. ..$ batch                      : chr [1:200000] \"\" \"\" \"\" \"\" ...\n",
      "  .. ..$ n_genes_by_counts          : num [1:200000] NA NA NA NA NA NA NA NA NA NA ...\n",
      "  .. ..$ total_counts               : num [1:200000] NA NA NA NA NA NA NA NA NA NA ...\n",
      "  .. ..$ pct_counts_in_top_50_genes : num [1:200000] NA NA NA NA NA NA NA NA NA NA ...\n",
      "  .. ..$ pct_counts_in_top_100_genes: num [1:200000] NA NA NA NA NA NA NA NA NA NA ...\n",
      "  .. ..$ pct_counts_in_top_200_genes: num [1:200000] NA NA NA NA NA NA NA NA NA NA ...\n",
      "  .. ..$ pct_counts_in_top_500_genes: num [1:200000] NA NA NA NA NA NA NA NA NA NA ...\n",
      "  .. ..$ total_counts_mt            : num [1:200000] NA NA NA NA NA NA NA NA NA NA ...\n",
      "  .. ..$ pct_counts_mt              : num [1:200000] NA NA NA NA NA NA NA NA NA NA ...\n",
      "  .. ..$ n_genes                    : num [1:200000] NA NA NA NA NA NA NA NA NA NA ...\n",
      "  .. ..$ doublet_score              : num [1:200000] NA NA NA NA NA NA NA NA NA NA ...\n",
      "  .. ..$ predicted_doublet          : chr [1:200000] \"\" \"\" \"\" \"\" ...\n",
      "  .. ..$ experiment                 : chr [1:200000] \"\" \"\" \"\" \"\" ...\n",
      "  .. ..$ sample_all                 : chr [1:200000] \"\" \"\" \"\" \"\" ...\n",
      "  .. ..$ gender                     : chr [1:200000] \"\" \"\" \"\" \"\" ...\n",
      "  .. ..$ age                        : num [1:200000] NA NA NA NA NA NA NA NA NA NA ...\n",
      "  .. ..$ age_period                 : chr [1:200000] \"\" \"\" \"\" \"\" ...\n",
      "  .. ..$ X_scvi_batch               : int [1:200000] 0 0 0 0 0 0 0 0 0 0 ...\n",
      "  .. ..$ X_scvi_labels              : int [1:200000] 0 0 0 0 0 0 0 0 0 0 ...\n",
      "  .. ..$ leiden_res0.8              : int [1:200000] NA NA NA NA NA NA NA NA NA NA ...\n",
      "  .. ..$ annotation1                : chr [1:200000] \"nan\" \"nan\" \"nan\" \"nan\" ...\n",
      "  .. ..$ annotation2                : chr [1:200000] \"Fib-1\" \"Macrophage\" \"Fib-3\" \"Fib-2\" ...\n",
      "  .. ..$ stage1                     : chr [1:200000] \"\" \"\" \"\" \"\" ...\n",
      "  .. ..$ stage2                     : chr [1:200000] \"\" \"\" \"\" \"\" ...\n",
      "  .. ..$ annotation3                : chr [1:200000] \"Fibroblasts_tissue\" \"Myeloid cells_tissue\" \"Fibroblasts_tissue\" \"Fibroblasts_tissue\" ...\n",
      "  .. ..$ ident                      : Factor w/ 1 level \"SeuratProject\": 1 1 1 1 1 1 1 1 1 1 ...\n",
      "  ..@ idents        : Factor w/ 21 levels \"B cell_fluid\",..: 8 14 8 8 8 8 8 8 8 8 ...\n",
      "  ..@ DB            : list()\n",
      "  ..@ LR            : list()\n",
      "  ..@ var.features  : list()\n",
      "  ..@ dr            : list()\n",
      "  ..@ options       :List of 2\n",
      "  .. ..$ mode    : chr \"single\"\n",
      "  .. ..$ datatype: chr \"RNA\"\n"
     ]
    },
    {
     "data": {
      "text/html": [
       "<style>\n",
       ".list-inline {list-style: none; margin:0; padding: 0}\n",
       ".list-inline>li {display: inline-block}\n",
       ".list-inline>li:not(:last-child)::after {content: \"\\00b7\"; padding: 0 .5ex}\n",
       "</style>\n",
       "<ol class=list-inline><li>'B cell_fluid'</li><li>'B/Plasma cells_tissue'</li><li>'Chondrocytes_tissue'</li><li>'DC_fluid'</li><li>'Endothelial cells_tissue'</li><li>'Endothelial_fluid'</li><li>'Fibroblast_fluid'</li><li>'Fibroblasts_tissue'</li><li>'Macrophage_fluid'</li><li>'Mast cell_fluid'</li><li>'Mast cells_tissue'</li><li>'Monocyte_fluid'</li><li>'Mural cells_tissue'</li><li>'Myeloid cells_tissue'</li><li>'Neotrophil_fluid'</li><li>'NK cell_fluid'</li><li>'Osteoblast_fluid'</li><li>'Osteoclast_fluid'</li><li>'Red Blood cells_tissue'</li><li>'T cell_fluid'</li><li>'T/NK cells_tissue'</li></ol>\n"
      ],
      "text/latex": [
       "\\begin{enumerate*}\n",
       "\\item 'B cell\\_fluid'\n",
       "\\item 'B/Plasma cells\\_tissue'\n",
       "\\item 'Chondrocytes\\_tissue'\n",
       "\\item 'DC\\_fluid'\n",
       "\\item 'Endothelial cells\\_tissue'\n",
       "\\item 'Endothelial\\_fluid'\n",
       "\\item 'Fibroblast\\_fluid'\n",
       "\\item 'Fibroblasts\\_tissue'\n",
       "\\item 'Macrophage\\_fluid'\n",
       "\\item 'Mast cell\\_fluid'\n",
       "\\item 'Mast cells\\_tissue'\n",
       "\\item 'Monocyte\\_fluid'\n",
       "\\item 'Mural cells\\_tissue'\n",
       "\\item 'Myeloid cells\\_tissue'\n",
       "\\item 'Neotrophil\\_fluid'\n",
       "\\item 'NK cell\\_fluid'\n",
       "\\item 'Osteoblast\\_fluid'\n",
       "\\item 'Osteoclast\\_fluid'\n",
       "\\item 'Red Blood cells\\_tissue'\n",
       "\\item 'T cell\\_fluid'\n",
       "\\item 'T/NK cells\\_tissue'\n",
       "\\end{enumerate*}\n"
      ],
      "text/markdown": [
       "1. 'B cell_fluid'\n",
       "2. 'B/Plasma cells_tissue'\n",
       "3. 'Chondrocytes_tissue'\n",
       "4. 'DC_fluid'\n",
       "5. 'Endothelial cells_tissue'\n",
       "6. 'Endothelial_fluid'\n",
       "7. 'Fibroblast_fluid'\n",
       "8. 'Fibroblasts_tissue'\n",
       "9. 'Macrophage_fluid'\n",
       "10. 'Mast cell_fluid'\n",
       "11. 'Mast cells_tissue'\n",
       "12. 'Monocyte_fluid'\n",
       "13. 'Mural cells_tissue'\n",
       "14. 'Myeloid cells_tissue'\n",
       "15. 'Neotrophil_fluid'\n",
       "16. 'NK cell_fluid'\n",
       "17. 'Osteoblast_fluid'\n",
       "18. 'Osteoclast_fluid'\n",
       "19. 'Red Blood cells_tissue'\n",
       "20. 'T cell_fluid'\n",
       "21. 'T/NK cells_tissue'\n",
       "\n",
       "\n"
      ],
      "text/plain": [
       " [1] \"B cell_fluid\"             \"B/Plasma cells_tissue\"   \n",
       " [3] \"Chondrocytes_tissue\"      \"DC_fluid\"                \n",
       " [5] \"Endothelial cells_tissue\" \"Endothelial_fluid\"       \n",
       " [7] \"Fibroblast_fluid\"         \"Fibroblasts_tissue\"      \n",
       " [9] \"Macrophage_fluid\"         \"Mast cell_fluid\"         \n",
       "[11] \"Mast cells_tissue\"        \"Monocyte_fluid\"          \n",
       "[13] \"Mural cells_tissue\"       \"Myeloid cells_tissue\"    \n",
       "[15] \"Neotrophil_fluid\"         \"NK cell_fluid\"           \n",
       "[17] \"Osteoblast_fluid\"         \"Osteoclast_fluid\"        \n",
       "[19] \"Red Blood cells_tissue\"   \"T cell_fluid\"            \n",
       "[21] \"T/NK cells_tissue\"       "
      ]
     },
     "metadata": {},
     "output_type": "display_data"
    }
   ],
   "source": [
    "#读入数据\n",
    "options(stringsAsFactors = FALSE)\n",
    "#pbmc3k.final <- readRDS(\"/data/work/final/09_stromal_integrate/integrate_stromal.rds\")\n",
    "#pbmc3k.final@commands$FindClusters  \n",
    "cellchat <- createCellChat(object=pbmc3k.final,group.by = \"annotation3\")\n",
    "#cellchat <- createCellChat(pbmc3k.final@assays$RNA@data, meta = pbmc3k.final@meta.data, group.by = \"cell_type\")\n",
    "cellchat\n",
    "summary(cellchat)\n",
    "str(cellchat)\n",
    "levels(cellchat@idents)\n",
    "#cellchat <- setIdent(cellchat, ident.use = \"cell_type\")\n"
   ]
  },
  {
   "cell_type": "code",
   "execution_count": null,
   "id": "fbdbe6c0-72fc-495f-b894-d6340b66c556",
   "metadata": {
    "execution": {
     "iopub.execute_input": "2025-07-18T01:33:35.812129Z",
     "iopub.status.busy": "2025-07-18T01:33:35.811092Z",
     "iopub.status.idle": "2025-07-18T01:33:44.231996Z"
    },
    "tags": []
   },
   "outputs": [],
   "source": [
    "future::plan(\"multisession\", workers = 16)\n",
    "options(future.globals.maxSize = 4 * 1024^3)"
   ]
  },
  {
   "cell_type": "code",
   "execution_count": null,
   "id": "eb54e48b-06c0-4b91-9672-259fa389157d",
   "metadata": {
    "execution": {
     "iopub.execute_input": "2025-07-18T01:33:44.240486Z",
     "iopub.status.busy": "2025-07-18T01:33:44.239280Z"
    },
    "tags": []
   },
   "outputs": [
    {
     "data": {
      "text/html": [
       "<style>\n",
       ".list-inline {list-style: none; margin:0; padding: 0}\n",
       ".list-inline>li {display: inline-block}\n",
       ".list-inline>li:not(:last-child)::after {content: \"\\00b7\"; padding: 0 .5ex}\n",
       "</style>\n",
       "<ol class=list-inline><li>1478</li><li>67</li><li>46334</li><li>37271</li><li>1987</li><li>5906</li><li>1133</li><li>8179</li><li>21559</li><li>354</li><li>49</li><li>17169</li><li>1360</li><li>2283</li><li>1592</li><li>5513</li><li>18399</li><li>3913</li><li>130</li><li>24513</li><li>811</li></ol>\n"
      ],
      "text/latex": [
       "\\begin{enumerate*}\n",
       "\\item 1478\n",
       "\\item 67\n",
       "\\item 46334\n",
       "\\item 37271\n",
       "\\item 1987\n",
       "\\item 5906\n",
       "\\item 1133\n",
       "\\item 8179\n",
       "\\item 21559\n",
       "\\item 354\n",
       "\\item 49\n",
       "\\item 17169\n",
       "\\item 1360\n",
       "\\item 2283\n",
       "\\item 1592\n",
       "\\item 5513\n",
       "\\item 18399\n",
       "\\item 3913\n",
       "\\item 130\n",
       "\\item 24513\n",
       "\\item 811\n",
       "\\end{enumerate*}\n"
      ],
      "text/markdown": [
       "1. 1478\n",
       "2. 67\n",
       "3. 46334\n",
       "4. 37271\n",
       "5. 1987\n",
       "6. 5906\n",
       "7. 1133\n",
       "8. 8179\n",
       "9. 21559\n",
       "10. 354\n",
       "11. 49\n",
       "12. 17169\n",
       "13. 1360\n",
       "14. 2283\n",
       "15. 1592\n",
       "16. 5513\n",
       "17. 18399\n",
       "18. 3913\n",
       "19. 130\n",
       "20. 24513\n",
       "21. 811\n",
       "\n",
       "\n"
      ],
      "text/plain": [
       " [1]  1478    67 46334 37271  1987  5906  1133  8179 21559   354    49 17169\n",
       "[13]  1360  2283  1592  5513 18399  3913   130 24513   811"
      ]
     },
     "metadata": {},
     "output_type": "display_data"
    },
    {
     "name": "stdout",
     "output_type": "stream",
     "text": [
      "List of 4\n",
      " $ interaction:'data.frame':\t3272 obs. of  28 variables:\n",
      "  ..$ interaction_name        : chr [1:3272] \"TGFB1_TGFBR1_TGFBR2\" \"TGFB2_TGFBR1_TGFBR2\" \"TGFB3_TGFBR1_TGFBR2\" \"TGFB1_ACVR1B_TGFBR2\" ...\n",
      "  ..$ pathway_name            : chr [1:3272] \"TGFb\" \"TGFb\" \"TGFb\" \"TGFb\" ...\n",
      "  ..$ ligand                  : chr [1:3272] \"TGFB1\" \"TGFB2\" \"TGFB3\" \"TGFB1\" ...\n",
      "  ..$ receptor                : chr [1:3272] \"TGFbR1_R2\" \"TGFbR1_R2\" \"TGFbR1_R2\" \"ACVR1B_TGFbR2\" ...\n",
      "  ..$ agonist                 : chr [1:3272] \"TGFb agonist\" \"TGFb agonist\" \"TGFb agonist\" \"TGFb agonist\" ...\n",
      "  ..$ antagonist              : chr [1:3272] \"TGFb antagonist\" \"TGFb antagonist\" \"TGFb antagonist\" \"TGFb antagonist\" ...\n",
      "  ..$ co_A_receptor           : chr [1:3272] \"\" \"\" \"\" \"\" ...\n",
      "  ..$ co_I_receptor           : chr [1:3272] \"TGFb inhibition receptor\" \"TGFb inhibition receptor\" \"TGFb inhibition receptor\" \"TGFb inhibition receptor\" ...\n",
      "  ..$ evidence                : chr [1:3272] \"KEGG: hsa04350\" \"KEGG: hsa04350\" \"KEGG: hsa04350\" \"PMID: 27449815\" ...\n",
      "  ..$ annotation              : chr [1:3272] \"Secreted Signaling\" \"Secreted Signaling\" \"Secreted Signaling\" \"Secreted Signaling\" ...\n",
      "  ..$ interaction_name_2      : chr [1:3272] \"TGFB1 - (TGFBR1+TGFBR2)\" \"TGFB2 - (TGFBR1+TGFBR2)\" \"TGFB3 - (TGFBR1+TGFBR2)\" \"TGFB1 - (ACVR1B+TGFBR2)\" ...\n",
      "  ..$ is_neurotransmitter     : logi [1:3272] FALSE FALSE FALSE FALSE FALSE FALSE ...\n",
      "  ..$ ligand.symbol           : chr [1:3272] \"TGFB1\" \"TGFB2\" \"TGFB3\" \"TGFB1\" ...\n",
      "  ..$ ligand.family           : chr [1:3272] \"TGF-beta\" \"TGF-beta\" \"TGF-beta\" \"TGF-beta\" ...\n",
      "  ..$ ligand.location         : chr [1:3272] \"Extracellular matrix, Secreted, Extracellular space\" \"Extracellular matrix, Secreted, Extracellular space\" \"Extracellular matrix, Secreted, Extracellular space\" \"Extracellular matrix, Secreted, Extracellular space\" ...\n",
      "  ..$ ligand.keyword          : chr [1:3272] \"Disease variant, Signal, Reference proteome, Extracellular matrix, Disulfide bond, Secreted, Mitogen, Growth fa\"| __truncated__ \"Disease variant, Chromosomal rearrangement, Signal, Reference proteome, Disulfide bond, Secreted, Extracellular\"| __truncated__ \"Disease variant, Signal, Reference proteome, Extracellular matrix, Disulfide bond, Secreted, Mitogen, Cardiomyo\"| __truncated__ \"Disease variant, Signal, Reference proteome, Extracellular matrix, Disulfide bond, Secreted, Mitogen, Growth fa\"| __truncated__ ...\n",
      "  ..$ ligand.secreted_type    : chr [1:3272] \"growth factor\" \"growth factor\" \"cytokine;growth factor\" \"growth factor\" ...\n",
      "  ..$ ligand.transmembrane    : logi [1:3272] FALSE FALSE TRUE FALSE FALSE FALSE ...\n",
      "  ..$ receptor.symbol         : chr [1:3272] \"TGFBR2, TGFBR1\" \"TGFBR2, TGFBR1\" \"TGFBR2, TGFBR1\" \"TGFBR2, ACVR1B\" ...\n",
      "  ..$ receptor.family         : chr [1:3272] \"Protein kinase superfamily, TKL Ser/Thr protein kinase\" \"Protein kinase superfamily, TKL Ser/Thr protein kinase\" \"Protein kinase superfamily, TKL Ser/Thr protein kinase\" \"Protein kinase superfamily, TKL Ser/Thr protein kinase\" ...\n",
      "  ..$ receptor.location       : chr [1:3272] \"Cell membrane, Secreted, Membrane raft, Cell surface, Cell junction, Tight junction\" \"Cell membrane, Secreted, Membrane raft, Cell surface, Cell junction, Tight junction\" \"Cell membrane, Secreted, Membrane raft, Cell surface, Cell junction, Tight junction\" \"Cell membrane, Secreted, Membrane raft\" ...\n",
      "  ..$ receptor.keyword        : chr [1:3272] \"Membrane, Secreted, Disulfide bond, Kinase, Transmembrane, Differentiation, ATP-binding, Receptor, Alternative \"| __truncated__ \"Membrane, Secreted, Disulfide bond, Kinase, Transmembrane, Differentiation, ATP-binding, Receptor, Alternative \"| __truncated__ \"Membrane, Secreted, Disulfide bond, Kinase, Transmembrane, Differentiation, ATP-binding, Receptor, Alternative \"| __truncated__ \"Membrane, Secreted, Disulfide bond, Kinase, Transmembrane, Differentiation, ATP-binding, Receptor, Alternative \"| __truncated__ ...\n",
      "  ..$ receptor.surfaceome_main: chr [1:3272] \"Receptors\" \"Receptors\" \"Receptors\" \"Receptors\" ...\n",
      "  ..$ receptor.surfaceome_sub : chr [1:3272] \"Act.TGFB;Kinase\" \"Act.TGFB;Kinase\" \"Act.TGFB;Kinase\" \"Act.TGFB;Kinase\" ...\n",
      "  ..$ receptor.adhesome       : chr [1:3272] \"\" \"\" \"\" \"\" ...\n",
      "  ..$ receptor.secreted_type  : chr [1:3272] \"\" \"\" \"\" \"\" ...\n",
      "  ..$ receptor.transmembrane  : logi [1:3272] TRUE TRUE TRUE TRUE TRUE TRUE ...\n",
      "  ..$ version                 : chr [1:3272] \"CellChatDB v1\" \"CellChatDB v1\" \"CellChatDB v1\" \"CellChatDB v1\" ...\n",
      " $ complex    :'data.frame':\t339 obs. of  5 variables:\n",
      "  ..$ subunit_1: chr [1:339] \"INHBA\" \"INHA\" \"INHA\" \"IL12A\" ...\n",
      "  ..$ subunit_2: chr [1:339] \"INHBB\" \"INHBA\" \"INHBB\" \"IL12B\" ...\n",
      "  ..$ subunit_3: chr [1:339] \"\" \"\" \"\" \"\" ...\n",
      "  ..$ subunit_4: chr [1:339] \"\" \"\" \"\" \"\" ...\n",
      "  ..$ subunit_5: chr [1:339] \"\" \"\" \"\" \"\" ...\n",
      " $ cofactor   :'data.frame':\t32 obs. of  16 variables:\n",
      "  ..$ cofactor1 : chr [1:32] \"FST\" \"BAMBI\" \"TIE1\" \"PTPRB\" ...\n",
      "  ..$ cofactor2 : chr [1:32] \"\" \"\" \"\" \"\" ...\n",
      "  ..$ cofactor3 : chr [1:32] \"\" \"\" \"\" \"\" ...\n",
      "  ..$ cofactor4 : chr [1:32] \"\" \"\" \"\" \"\" ...\n",
      "  ..$ cofactor5 : chr [1:32] \"\" \"\" \"\" \"\" ...\n",
      "  ..$ cofactor6 : chr [1:32] \"\" \"\" \"\" \"\" ...\n",
      "  ..$ cofactor7 : chr [1:32] \"\" \"\" \"\" \"\" ...\n",
      "  ..$ cofactor8 : chr [1:32] \"\" \"\" \"\" \"\" ...\n",
      "  ..$ cofactor9 : chr [1:32] \"\" \"\" \"\" \"\" ...\n",
      "  ..$ cofactor10: chr [1:32] \"\" \"\" \"\" \"\" ...\n",
      "  ..$ cofactor11: chr [1:32] \"\" \"\" \"\" \"\" ...\n",
      "  ..$ cofactor12: chr [1:32] \"\" \"\" \"\" \"\" ...\n",
      "  ..$ cofactor13: chr [1:32] \"\" \"\" \"\" \"\" ...\n",
      "  ..$ cofactor14: chr [1:32] \"\" \"\" \"\" \"\" ...\n",
      "  ..$ cofactor15: chr [1:32] \"\" \"\" \"\" \"\" ...\n",
      "  ..$ cofactor16: chr [1:32] \"\" \"\" \"\" \"\" ...\n",
      " $ geneInfo   : tibble [26,827 × 8] (S3: tbl_df/tbl/data.frame)\n",
      "  ..$ EntryID.uniprot: chr [1:26827] \"P04217\" \"Q9NQ94\" \"P01023\" \"A8K2U0\" ...\n",
      "  ..$ Symbol         : chr [1:26827] \"A1BG\" \"A1CF\" \"A2M\" \"A2ML1\" ...\n",
      "  ..$ Synonym        : chr [1:26827] NA \"ACF ASP\" \"CPAMD5\" \"CPAMD9\" ...\n",
      "  ..$ Reviewed       : chr [1:26827] \"reviewed\" \"reviewed\" \"reviewed\" \"reviewed\" ...\n",
      "  ..$ EntryName      : chr [1:26827] \"A1BG_HUMAN\" \"A1CF_HUMAN\" \"A2MG_HUMAN\" \"A2ML1_HUMAN\" ...\n",
      "  ..$ ProteinName    : chr [1:26827] \"Alpha-1B-glycoprotein (Alpha-1-B glycoprotein)\" \"APOBEC1 complementation factor (APOBEC1-stimulating protein)\" \"Alpha-2-macroglobulin (Alpha-2-M) (C3 and PZP-like alpha-2-macroglobulin domain-containing protein 5)\" \"Alpha-2-macroglobulin-like protein 1 (C3 and PZP-like alpha-2-macroglobulin domain-containing protein 9)\" ...\n",
      "  ..$ Keywords       : chr [1:26827] \"Alternative splicing;Direct protein sequencing;Disulfide bond;Glycoprotein;Immunoglobulin domain;Reference prot\"| __truncated__ \"3D-structure;Alternative splicing;Cytoplasm;Endoplasmic reticulum;mRNA processing;Nucleus;Phosphoprotein;Refere\"| __truncated__ \"3D-structure;Bait region;Direct protein sequencing;Disulfide bond;Glycoprotein;Isopeptide bond;Protease inhibit\"| __truncated__ \"3D-structure;Alternative splicing;Bait region;Disulfide bond;Glycoprotein;Protease inhibitor;Reference proteome\"| __truncated__ ...\n",
      "  ..$ Location       : chr [1:26827] \"SUBCELLULAR LOCATION: Secreted.\" \"SUBCELLULAR LOCATION: Nucleus {ECO:0000269|PubMed:12881431, ECO:0000269|PubMed:24916387}. Endoplasmic reticulum\"| __truncated__ \"SUBCELLULAR LOCATION: Secreted {ECO:0000269|PubMed:6203908}.\" \"SUBCELLULAR LOCATION: Secreted {ECO:0000269|PubMed:16298998}.\" ...\n"
     ]
    },
    {
     "data": {
      "text/html": [
       "<style>\n",
       ".list-inline {list-style: none; margin:0; padding: 0}\n",
       ".list-inline>li {display: inline-block}\n",
       ".list-inline>li:not(:last-child)::after {content: \"\\00b7\"; padding: 0 .5ex}\n",
       "</style>\n",
       "<ol class=list-inline><li>'interaction_name'</li><li>'pathway_name'</li><li>'ligand'</li><li>'receptor'</li><li>'agonist'</li><li>'antagonist'</li><li>'co_A_receptor'</li><li>'co_I_receptor'</li><li>'evidence'</li><li>'annotation'</li><li>'interaction_name_2'</li><li>'is_neurotransmitter'</li><li>'ligand.symbol'</li><li>'ligand.family'</li><li>'ligand.location'</li><li>'ligand.keyword'</li><li>'ligand.secreted_type'</li><li>'ligand.transmembrane'</li><li>'receptor.symbol'</li><li>'receptor.family'</li><li>'receptor.location'</li><li>'receptor.keyword'</li><li>'receptor.surfaceome_main'</li><li>'receptor.surfaceome_sub'</li><li>'receptor.adhesome'</li><li>'receptor.secreted_type'</li><li>'receptor.transmembrane'</li><li>'version'</li></ol>\n"
      ],
      "text/latex": [
       "\\begin{enumerate*}\n",
       "\\item 'interaction\\_name'\n",
       "\\item 'pathway\\_name'\n",
       "\\item 'ligand'\n",
       "\\item 'receptor'\n",
       "\\item 'agonist'\n",
       "\\item 'antagonist'\n",
       "\\item 'co\\_A\\_receptor'\n",
       "\\item 'co\\_I\\_receptor'\n",
       "\\item 'evidence'\n",
       "\\item 'annotation'\n",
       "\\item 'interaction\\_name\\_2'\n",
       "\\item 'is\\_neurotransmitter'\n",
       "\\item 'ligand.symbol'\n",
       "\\item 'ligand.family'\n",
       "\\item 'ligand.location'\n",
       "\\item 'ligand.keyword'\n",
       "\\item 'ligand.secreted\\_type'\n",
       "\\item 'ligand.transmembrane'\n",
       "\\item 'receptor.symbol'\n",
       "\\item 'receptor.family'\n",
       "\\item 'receptor.location'\n",
       "\\item 'receptor.keyword'\n",
       "\\item 'receptor.surfaceome\\_main'\n",
       "\\item 'receptor.surfaceome\\_sub'\n",
       "\\item 'receptor.adhesome'\n",
       "\\item 'receptor.secreted\\_type'\n",
       "\\item 'receptor.transmembrane'\n",
       "\\item 'version'\n",
       "\\end{enumerate*}\n"
      ],
      "text/markdown": [
       "1. 'interaction_name'\n",
       "2. 'pathway_name'\n",
       "3. 'ligand'\n",
       "4. 'receptor'\n",
       "5. 'agonist'\n",
       "6. 'antagonist'\n",
       "7. 'co_A_receptor'\n",
       "8. 'co_I_receptor'\n",
       "9. 'evidence'\n",
       "10. 'annotation'\n",
       "11. 'interaction_name_2'\n",
       "12. 'is_neurotransmitter'\n",
       "13. 'ligand.symbol'\n",
       "14. 'ligand.family'\n",
       "15. 'ligand.location'\n",
       "16. 'ligand.keyword'\n",
       "17. 'ligand.secreted_type'\n",
       "18. 'ligand.transmembrane'\n",
       "19. 'receptor.symbol'\n",
       "20. 'receptor.family'\n",
       "21. 'receptor.location'\n",
       "22. 'receptor.keyword'\n",
       "23. 'receptor.surfaceome_main'\n",
       "24. 'receptor.surfaceome_sub'\n",
       "25. 'receptor.adhesome'\n",
       "26. 'receptor.secreted_type'\n",
       "27. 'receptor.transmembrane'\n",
       "28. 'version'\n",
       "\n",
       "\n"
      ],
      "text/plain": [
       " [1] \"interaction_name\"         \"pathway_name\"            \n",
       " [3] \"ligand\"                   \"receptor\"                \n",
       " [5] \"agonist\"                  \"antagonist\"              \n",
       " [7] \"co_A_receptor\"            \"co_I_receptor\"           \n",
       " [9] \"evidence\"                 \"annotation\"              \n",
       "[11] \"interaction_name_2\"       \"is_neurotransmitter\"     \n",
       "[13] \"ligand.symbol\"            \"ligand.family\"           \n",
       "[15] \"ligand.location\"          \"ligand.keyword\"          \n",
       "[17] \"ligand.secreted_type\"     \"ligand.transmembrane\"    \n",
       "[19] \"receptor.symbol\"          \"receptor.family\"         \n",
       "[21] \"receptor.location\"        \"receptor.keyword\"        \n",
       "[23] \"receptor.surfaceome_main\" \"receptor.surfaceome_sub\" \n",
       "[25] \"receptor.adhesome\"        \"receptor.secreted_type\"  \n",
       "[27] \"receptor.transmembrane\"   \"version\"                 "
      ]
     },
     "metadata": {},
     "output_type": "display_data"
    },
    {
     "data": {
      "text/html": [
       "<table class=\"dataframe\">\n",
       "<caption>A data.frame: 4 × 4</caption>\n",
       "<thead>\n",
       "\t<tr><th></th><th scope=col>interaction_name</th><th scope=col>pathway_name</th><th scope=col>ligand</th><th scope=col>receptor</th></tr>\n",
       "\t<tr><th></th><th scope=col>&lt;chr&gt;</th><th scope=col>&lt;chr&gt;</th><th scope=col>&lt;chr&gt;</th><th scope=col>&lt;chr&gt;</th></tr>\n",
       "</thead>\n",
       "<tbody>\n",
       "\t<tr><th scope=row>TGFB1_TGFBR1_TGFBR2</th><td>TGFB1_TGFBR1_TGFBR2</td><td>TGFb</td><td>TGFB1</td><td>TGFbR1_R2    </td></tr>\n",
       "\t<tr><th scope=row>TGFB2_TGFBR1_TGFBR2</th><td>TGFB2_TGFBR1_TGFBR2</td><td>TGFb</td><td>TGFB2</td><td>TGFbR1_R2    </td></tr>\n",
       "\t<tr><th scope=row>TGFB3_TGFBR1_TGFBR2</th><td>TGFB3_TGFBR1_TGFBR2</td><td>TGFb</td><td>TGFB3</td><td>TGFbR1_R2    </td></tr>\n",
       "\t<tr><th scope=row>TGFB1_ACVR1B_TGFBR2</th><td>TGFB1_ACVR1B_TGFBR2</td><td>TGFb</td><td>TGFB1</td><td>ACVR1B_TGFbR2</td></tr>\n",
       "</tbody>\n",
       "</table>\n"
      ],
      "text/latex": [
       "A data.frame: 4 × 4\n",
       "\\begin{tabular}{r|llll}\n",
       "  & interaction\\_name & pathway\\_name & ligand & receptor\\\\\n",
       "  & <chr> & <chr> & <chr> & <chr>\\\\\n",
       "\\hline\n",
       "\tTGFB1\\_TGFBR1\\_TGFBR2 & TGFB1\\_TGFBR1\\_TGFBR2 & TGFb & TGFB1 & TGFbR1\\_R2    \\\\\n",
       "\tTGFB2\\_TGFBR1\\_TGFBR2 & TGFB2\\_TGFBR1\\_TGFBR2 & TGFb & TGFB2 & TGFbR1\\_R2    \\\\\n",
       "\tTGFB3\\_TGFBR1\\_TGFBR2 & TGFB3\\_TGFBR1\\_TGFBR2 & TGFb & TGFB3 & TGFbR1\\_R2    \\\\\n",
       "\tTGFB1\\_ACVR1B\\_TGFBR2 & TGFB1\\_ACVR1B\\_TGFBR2 & TGFb & TGFB1 & ACVR1B\\_TGFbR2\\\\\n",
       "\\end{tabular}\n"
      ],
      "text/markdown": [
       "\n",
       "A data.frame: 4 × 4\n",
       "\n",
       "| <!--/--> | interaction_name &lt;chr&gt; | pathway_name &lt;chr&gt; | ligand &lt;chr&gt; | receptor &lt;chr&gt; |\n",
       "|---|---|---|---|---|\n",
       "| TGFB1_TGFBR1_TGFBR2 | TGFB1_TGFBR1_TGFBR2 | TGFb | TGFB1 | TGFbR1_R2     |\n",
       "| TGFB2_TGFBR1_TGFBR2 | TGFB2_TGFBR1_TGFBR2 | TGFb | TGFB2 | TGFbR1_R2     |\n",
       "| TGFB3_TGFBR1_TGFBR2 | TGFB3_TGFBR1_TGFBR2 | TGFb | TGFB3 | TGFbR1_R2     |\n",
       "| TGFB1_ACVR1B_TGFBR2 | TGFB1_ACVR1B_TGFBR2 | TGFb | TGFB1 | ACVR1B_TGFbR2 |\n",
       "\n"
      ],
      "text/plain": [
       "                    interaction_name    pathway_name ligand receptor     \n",
       "TGFB1_TGFBR1_TGFBR2 TGFB1_TGFBR1_TGFBR2 TGFb         TGFB1  TGFbR1_R2    \n",
       "TGFB2_TGFBR1_TGFBR2 TGFB2_TGFBR1_TGFBR2 TGFb         TGFB2  TGFbR1_R2    \n",
       "TGFB3_TGFBR1_TGFBR2 TGFB3_TGFBR1_TGFBR2 TGFb         TGFB3  TGFbR1_R2    \n",
       "TGFB1_ACVR1B_TGFBR2 TGFB1_ACVR1B_TGFBR2 TGFb         TGFB1  ACVR1B_TGFbR2"
      ]
     },
     "metadata": {},
     "output_type": "display_data"
    },
    {
     "data": {
      "text/html": [
       "<table class=\"dataframe\">\n",
       "<caption>A data.frame: 6 × 16</caption>\n",
       "<thead>\n",
       "\t<tr><th></th><th scope=col>cofactor1</th><th scope=col>cofactor2</th><th scope=col>cofactor3</th><th scope=col>cofactor4</th><th scope=col>cofactor5</th><th scope=col>cofactor6</th><th scope=col>cofactor7</th><th scope=col>cofactor8</th><th scope=col>cofactor9</th><th scope=col>cofactor10</th><th scope=col>cofactor11</th><th scope=col>cofactor12</th><th scope=col>cofactor13</th><th scope=col>cofactor14</th><th scope=col>cofactor15</th><th scope=col>cofactor16</th></tr>\n",
       "\t<tr><th></th><th scope=col>&lt;chr&gt;</th><th scope=col>&lt;chr&gt;</th><th scope=col>&lt;chr&gt;</th><th scope=col>&lt;chr&gt;</th><th scope=col>&lt;chr&gt;</th><th scope=col>&lt;chr&gt;</th><th scope=col>&lt;chr&gt;</th><th scope=col>&lt;chr&gt;</th><th scope=col>&lt;chr&gt;</th><th scope=col>&lt;chr&gt;</th><th scope=col>&lt;chr&gt;</th><th scope=col>&lt;chr&gt;</th><th scope=col>&lt;chr&gt;</th><th scope=col>&lt;chr&gt;</th><th scope=col>&lt;chr&gt;</th><th scope=col>&lt;chr&gt;</th></tr>\n",
       "</thead>\n",
       "<tbody>\n",
       "\t<tr><th scope=row>ACTIVIN antagonist</th><td>FST  </td><td>     </td><td>     </td><td>    </td><td>   </td><td>    </td><td>      </td><td>      </td><td></td><td></td><td></td><td></td><td></td><td></td><td></td><td></td></tr>\n",
       "\t<tr><th scope=row>ACTIVIN inhibition receptor</th><td>BAMBI</td><td>     </td><td>     </td><td>    </td><td>   </td><td>    </td><td>      </td><td>      </td><td></td><td></td><td></td><td></td><td></td><td></td><td></td><td></td></tr>\n",
       "\t<tr><th scope=row>ANGPT inhibition receptor 1</th><td>TIE1 </td><td>     </td><td>     </td><td>    </td><td>   </td><td>    </td><td>      </td><td>      </td><td></td><td></td><td></td><td></td><td></td><td></td><td></td><td></td></tr>\n",
       "\t<tr><th scope=row>ANGPT inhibition receptor 2</th><td>PTPRB</td><td>     </td><td>     </td><td>    </td><td>   </td><td>    </td><td>      </td><td>      </td><td></td><td></td><td></td><td></td><td></td><td></td><td></td><td></td></tr>\n",
       "\t<tr><th scope=row>BMP antagonist</th><td>NBL1 </td><td>GREM1</td><td>GREM2</td><td>CHRD</td><td>NOG</td><td>BMP3</td><td>LEFTY1</td><td>LEFTY2</td><td></td><td></td><td></td><td></td><td></td><td></td><td></td><td></td></tr>\n",
       "\t<tr><th scope=row>BMP inhibition receptor</th><td>BAMBI</td><td>     </td><td>     </td><td>    </td><td>   </td><td>    </td><td>      </td><td>      </td><td></td><td></td><td></td><td></td><td></td><td></td><td></td><td></td></tr>\n",
       "</tbody>\n",
       "</table>\n"
      ],
      "text/latex": [
       "A data.frame: 6 × 16\n",
       "\\begin{tabular}{r|llllllllllllllll}\n",
       "  & cofactor1 & cofactor2 & cofactor3 & cofactor4 & cofactor5 & cofactor6 & cofactor7 & cofactor8 & cofactor9 & cofactor10 & cofactor11 & cofactor12 & cofactor13 & cofactor14 & cofactor15 & cofactor16\\\\\n",
       "  & <chr> & <chr> & <chr> & <chr> & <chr> & <chr> & <chr> & <chr> & <chr> & <chr> & <chr> & <chr> & <chr> & <chr> & <chr> & <chr>\\\\\n",
       "\\hline\n",
       "\tACTIVIN antagonist & FST   &       &       &      &     &      &        &        &  &  &  &  &  &  &  & \\\\\n",
       "\tACTIVIN inhibition receptor & BAMBI &       &       &      &     &      &        &        &  &  &  &  &  &  &  & \\\\\n",
       "\tANGPT inhibition receptor 1 & TIE1  &       &       &      &     &      &        &        &  &  &  &  &  &  &  & \\\\\n",
       "\tANGPT inhibition receptor 2 & PTPRB &       &       &      &     &      &        &        &  &  &  &  &  &  &  & \\\\\n",
       "\tBMP antagonist & NBL1  & GREM1 & GREM2 & CHRD & NOG & BMP3 & LEFTY1 & LEFTY2 &  &  &  &  &  &  &  & \\\\\n",
       "\tBMP inhibition receptor & BAMBI &       &       &      &     &      &        &        &  &  &  &  &  &  &  & \\\\\n",
       "\\end{tabular}\n"
      ],
      "text/markdown": [
       "\n",
       "A data.frame: 6 × 16\n",
       "\n",
       "| <!--/--> | cofactor1 &lt;chr&gt; | cofactor2 &lt;chr&gt; | cofactor3 &lt;chr&gt; | cofactor4 &lt;chr&gt; | cofactor5 &lt;chr&gt; | cofactor6 &lt;chr&gt; | cofactor7 &lt;chr&gt; | cofactor8 &lt;chr&gt; | cofactor9 &lt;chr&gt; | cofactor10 &lt;chr&gt; | cofactor11 &lt;chr&gt; | cofactor12 &lt;chr&gt; | cofactor13 &lt;chr&gt; | cofactor14 &lt;chr&gt; | cofactor15 &lt;chr&gt; | cofactor16 &lt;chr&gt; |\n",
       "|---|---|---|---|---|---|---|---|---|---|---|---|---|---|---|---|---|\n",
       "| ACTIVIN antagonist | FST   | <!----> | <!----> | <!----> | <!----> | <!----> | <!----> | <!----> | <!----> | <!----> | <!----> | <!----> | <!----> | <!----> | <!----> | <!----> |\n",
       "| ACTIVIN inhibition receptor | BAMBI | <!----> | <!----> | <!----> | <!----> | <!----> | <!----> | <!----> | <!----> | <!----> | <!----> | <!----> | <!----> | <!----> | <!----> | <!----> |\n",
       "| ANGPT inhibition receptor 1 | TIE1  | <!----> | <!----> | <!----> | <!----> | <!----> | <!----> | <!----> | <!----> | <!----> | <!----> | <!----> | <!----> | <!----> | <!----> | <!----> |\n",
       "| ANGPT inhibition receptor 2 | PTPRB | <!----> | <!----> | <!----> | <!----> | <!----> | <!----> | <!----> | <!----> | <!----> | <!----> | <!----> | <!----> | <!----> | <!----> | <!----> |\n",
       "| BMP antagonist | NBL1  | GREM1 | GREM2 | CHRD | NOG | BMP3 | LEFTY1 | LEFTY2 | <!----> | <!----> | <!----> | <!----> | <!----> | <!----> | <!----> | <!----> |\n",
       "| BMP inhibition receptor | BAMBI | <!----> | <!----> | <!----> | <!----> | <!----> | <!----> | <!----> | <!----> | <!----> | <!----> | <!----> | <!----> | <!----> | <!----> | <!----> |\n",
       "\n"
      ],
      "text/plain": [
       "                            cofactor1 cofactor2 cofactor3 cofactor4 cofactor5\n",
       "ACTIVIN antagonist          FST                                              \n",
       "ACTIVIN inhibition receptor BAMBI                                            \n",
       "ANGPT inhibition receptor 1 TIE1                                             \n",
       "ANGPT inhibition receptor 2 PTPRB                                            \n",
       "BMP antagonist              NBL1      GREM1     GREM2     CHRD      NOG      \n",
       "BMP inhibition receptor     BAMBI                                            \n",
       "                            cofactor6 cofactor7 cofactor8 cofactor9 cofactor10\n",
       "ACTIVIN antagonist                                                            \n",
       "ACTIVIN inhibition receptor                                                   \n",
       "ANGPT inhibition receptor 1                                                   \n",
       "ANGPT inhibition receptor 2                                                   \n",
       "BMP antagonist              BMP3      LEFTY1    LEFTY2                        \n",
       "BMP inhibition receptor                                                       \n",
       "                            cofactor11 cofactor12 cofactor13 cofactor14\n",
       "ACTIVIN antagonist                                                     \n",
       "ACTIVIN inhibition receptor                                            \n",
       "ANGPT inhibition receptor 1                                            \n",
       "ANGPT inhibition receptor 2                                            \n",
       "BMP antagonist                                                         \n",
       "BMP inhibition receptor                                                \n",
       "                            cofactor15 cofactor16\n",
       "ACTIVIN antagonist                               \n",
       "ACTIVIN inhibition receptor                      \n",
       "ANGPT inhibition receptor 1                      \n",
       "ANGPT inhibition receptor 2                      \n",
       "BMP antagonist                                   \n",
       "BMP inhibition receptor                          "
      ]
     },
     "metadata": {},
     "output_type": "display_data"
    },
    {
     "data": {
      "text/html": [
       "<table class=\"dataframe\">\n",
       "<caption>A data.frame: 6 × 5</caption>\n",
       "<thead>\n",
       "\t<tr><th></th><th scope=col>subunit_1</th><th scope=col>subunit_2</th><th scope=col>subunit_3</th><th scope=col>subunit_4</th><th scope=col>subunit_5</th></tr>\n",
       "\t<tr><th></th><th scope=col>&lt;chr&gt;</th><th scope=col>&lt;chr&gt;</th><th scope=col>&lt;chr&gt;</th><th scope=col>&lt;chr&gt;</th><th scope=col>&lt;chr&gt;</th></tr>\n",
       "</thead>\n",
       "<tbody>\n",
       "\t<tr><th scope=row>Activin AB</th><td>INHBA</td><td>INHBB</td><td></td><td></td><td></td></tr>\n",
       "\t<tr><th scope=row>Inhibin A</th><td>INHA </td><td>INHBA</td><td></td><td></td><td></td></tr>\n",
       "\t<tr><th scope=row>Inhibin B</th><td>INHA </td><td>INHBB</td><td></td><td></td><td></td></tr>\n",
       "\t<tr><th scope=row>IL12AB</th><td>IL12A</td><td>IL12B</td><td></td><td></td><td></td></tr>\n",
       "\t<tr><th scope=row>IL23 complex</th><td>IL12B</td><td>IL23A</td><td></td><td></td><td></td></tr>\n",
       "\t<tr><th scope=row>IL27 complex</th><td>IL27 </td><td>EBI3 </td><td></td><td></td><td></td></tr>\n",
       "</tbody>\n",
       "</table>\n"
      ],
      "text/latex": [
       "A data.frame: 6 × 5\n",
       "\\begin{tabular}{r|lllll}\n",
       "  & subunit\\_1 & subunit\\_2 & subunit\\_3 & subunit\\_4 & subunit\\_5\\\\\n",
       "  & <chr> & <chr> & <chr> & <chr> & <chr>\\\\\n",
       "\\hline\n",
       "\tActivin AB & INHBA & INHBB &  &  & \\\\\n",
       "\tInhibin A & INHA  & INHBA &  &  & \\\\\n",
       "\tInhibin B & INHA  & INHBB &  &  & \\\\\n",
       "\tIL12AB & IL12A & IL12B &  &  & \\\\\n",
       "\tIL23 complex & IL12B & IL23A &  &  & \\\\\n",
       "\tIL27 complex & IL27  & EBI3  &  &  & \\\\\n",
       "\\end{tabular}\n"
      ],
      "text/markdown": [
       "\n",
       "A data.frame: 6 × 5\n",
       "\n",
       "| <!--/--> | subunit_1 &lt;chr&gt; | subunit_2 &lt;chr&gt; | subunit_3 &lt;chr&gt; | subunit_4 &lt;chr&gt; | subunit_5 &lt;chr&gt; |\n",
       "|---|---|---|---|---|---|\n",
       "| Activin AB | INHBA | INHBB | <!----> | <!----> | <!----> |\n",
       "| Inhibin A | INHA  | INHBA | <!----> | <!----> | <!----> |\n",
       "| Inhibin B | INHA  | INHBB | <!----> | <!----> | <!----> |\n",
       "| IL12AB | IL12A | IL12B | <!----> | <!----> | <!----> |\n",
       "| IL23 complex | IL12B | IL23A | <!----> | <!----> | <!----> |\n",
       "| IL27 complex | IL27  | EBI3  | <!----> | <!----> | <!----> |\n",
       "\n"
      ],
      "text/plain": [
       "             subunit_1 subunit_2 subunit_3 subunit_4 subunit_5\n",
       "Activin AB   INHBA     INHBB                                  \n",
       "Inhibin A    INHA      INHBA                                  \n",
       "Inhibin B    INHA      INHBB                                  \n",
       "IL12AB       IL12A     IL12B                                  \n",
       "IL23 complex IL12B     IL23A                                  \n",
       "IL27 complex IL27      EBI3                                   "
      ]
     },
     "metadata": {},
     "output_type": "display_data"
    },
    {
     "data": {
      "text/html": [
       "<table class=\"dataframe\">\n",
       "<caption>A tibble: 6 × 8</caption>\n",
       "<thead>\n",
       "\t<tr><th scope=col>EntryID.uniprot</th><th scope=col>Symbol</th><th scope=col>Synonym</th><th scope=col>Reviewed</th><th scope=col>EntryName</th><th scope=col>ProteinName</th><th scope=col>Keywords</th><th scope=col>Location</th></tr>\n",
       "\t<tr><th scope=col>&lt;chr&gt;</th><th scope=col>&lt;chr&gt;</th><th scope=col>&lt;chr&gt;</th><th scope=col>&lt;chr&gt;</th><th scope=col>&lt;chr&gt;</th><th scope=col>&lt;chr&gt;</th><th scope=col>&lt;chr&gt;</th><th scope=col>&lt;chr&gt;</th></tr>\n",
       "</thead>\n",
       "<tbody>\n",
       "\t<tr><td>P04217</td><td>A1BG   </td><td>NA             </td><td>reviewed</td><td>A1BG_HUMAN </td><td>Alpha-1B-glycoprotein (Alpha-1-B glycoprotein)                                                                                                                                                                                                                                                                       </td><td>Alternative splicing;Direct protein sequencing;Disulfide bond;Glycoprotein;Immunoglobulin domain;Reference proteome;Repeat;Secreted;Signal                                                   </td><td>SUBCELLULAR LOCATION: Secreted.                                                                                                                                                                                                                                                                                                                                                                                                                                                                       </td></tr>\n",
       "\t<tr><td>Q9NQ94</td><td>A1CF   </td><td>ACF ASP        </td><td>reviewed</td><td>A1CF_HUMAN </td><td>APOBEC1 complementation factor (APOBEC1-stimulating protein)                                                                                                                                                                                                                                                         </td><td>3D-structure;Alternative splicing;Cytoplasm;Endoplasmic reticulum;mRNA processing;Nucleus;Phosphoprotein;Reference proteome;Repeat;RNA-binding                                               </td><td>SUBCELLULAR LOCATION: Nucleus {ECO:0000269|PubMed:12881431, ECO:0000269|PubMed:24916387}. Endoplasmic reticulum {ECO:0000250}. Cytoplasm {ECO:0000269|PubMed:12881431}. Note=Predominantly nuclear where it localizes to heterochromatin. Also cytoplasmic where it is found at the outer surface of the endoplasmic reticulum (By similarity). Shuttles between the nucleus and cytoplasm. May be transported into the nucleus by the nuclear import protein TNPO2/TRN2 or by APOBEC1. {ECO:0000250}.</td></tr>\n",
       "\t<tr><td>P01023</td><td>A2M    </td><td>CPAMD5         </td><td>reviewed</td><td>A2MG_HUMAN </td><td>Alpha-2-macroglobulin (Alpha-2-M) (C3 and PZP-like alpha-2-macroglobulin domain-containing protein 5)                                                                                                                                                                                                                </td><td>3D-structure;Bait region;Direct protein sequencing;Disulfide bond;Glycoprotein;Isopeptide bond;Protease inhibitor;Reference proteome;Secreted;Serine protease inhibitor;Signal;Thioester bond</td><td>SUBCELLULAR LOCATION: Secreted {ECO:0000269|PubMed:6203908}.                                                                                                                                                                                                                                                                                                                                                                                                                                          </td></tr>\n",
       "\t<tr><td>A8K2U0</td><td>A2ML1  </td><td>CPAMD9         </td><td>reviewed</td><td>A2ML1_HUMAN</td><td>Alpha-2-macroglobulin-like protein 1 (C3 and PZP-like alpha-2-macroglobulin domain-containing protein 9)                                                                                                                                                                                                             </td><td>3D-structure;Alternative splicing;Bait region;Disulfide bond;Glycoprotein;Protease inhibitor;Reference proteome;Secreted;Serine protease inhibitor;Signal;Thioester bond                     </td><td>SUBCELLULAR LOCATION: Secreted {ECO:0000269|PubMed:16298998}.                                                                                                                                                                                                                                                                                                                                                                                                                                         </td></tr>\n",
       "\t<tr><td>U3KPV4</td><td>A3GALT2</td><td>A3GALT2P IGBS3S</td><td>reviewed</td><td>A3LT2_HUMAN</td><td>Alpha-1,3-galactosyltransferase 2 (EC 2.4.1.87) (Isoglobotriaosylceramide synthase) (iGb3 synthase) (iGb3S)                                                                                                                                                                                                          </td><td>Glycoprotein;Glycosyltransferase;Golgi apparatus;Lipid metabolism;Manganese;Membrane;Metal-binding;Reference proteome;Signal-anchor;Transferase;Transmembrane;Transmembrane helix            </td><td>SUBCELLULAR LOCATION: Golgi apparatus, Golgi stack membrane {ECO:0000250|UniProtKB:A0A4Z3}; Single-pass type II membrane protein {ECO:0000250|UniProtKB:A0A4Z3}. Note=Also found in numerous large vesicles throughout the cytoplasm of the soma. {ECO:0000250|UniProtKB:A0A4Z3}.                                                                                                                                                                                                                     </td></tr>\n",
       "\t<tr><td>Q9NPC4</td><td>A4GALT </td><td>A14GALT A4GALT1</td><td>reviewed</td><td>A4GAT_HUMAN</td><td>Lactosylceramide 4-alpha-galactosyltransferase (EC 2.4.1.228) (Alpha-1,4-N-acetylglucosaminyltransferase) (Alpha-1,4-galactosyltransferase) (Alpha4Gal-T1) (CD77 synthase) (Globotriaosylceramide synthase) (Gb3 synthase) (P1/Pk synthase) (UDP-galactose:beta-D-galactosyl-beta1-R 4-alpha-D-galactosyltransferase)</td><td>Glycoprotein;Glycosyltransferase;Golgi apparatus;Lipid biosynthesis;Lipid metabolism;Membrane;Reference proteome;Signal-anchor;Transferase;Transmembrane;Transmembrane helix                 </td><td>SUBCELLULAR LOCATION: Golgi apparatus membrane {ECO:0000305}; Single-pass type II membrane protein {ECO:0000305}.                                                                                                                                                                                                                                                                                                                                                                                     </td></tr>\n",
       "</tbody>\n",
       "</table>\n"
      ],
      "text/latex": [
       "A tibble: 6 × 8\n",
       "\\begin{tabular}{llllllll}\n",
       " EntryID.uniprot & Symbol & Synonym & Reviewed & EntryName & ProteinName & Keywords & Location\\\\\n",
       " <chr> & <chr> & <chr> & <chr> & <chr> & <chr> & <chr> & <chr>\\\\\n",
       "\\hline\n",
       "\t P04217 & A1BG    & NA              & reviewed & A1BG\\_HUMAN  & Alpha-1B-glycoprotein (Alpha-1-B glycoprotein)                                                                                                                                                                                                                                                                        & Alternative splicing;Direct protein sequencing;Disulfide bond;Glycoprotein;Immunoglobulin domain;Reference proteome;Repeat;Secreted;Signal                                                    & SUBCELLULAR LOCATION: Secreted.                                                                                                                                                                                                                                                                                                                                                                                                                                                                       \\\\\n",
       "\t Q9NQ94 & A1CF    & ACF ASP         & reviewed & A1CF\\_HUMAN  & APOBEC1 complementation factor (APOBEC1-stimulating protein)                                                                                                                                                                                                                                                          & 3D-structure;Alternative splicing;Cytoplasm;Endoplasmic reticulum;mRNA processing;Nucleus;Phosphoprotein;Reference proteome;Repeat;RNA-binding                                                & SUBCELLULAR LOCATION: Nucleus \\{ECO:0000269\\textbar{}PubMed:12881431, ECO:0000269\\textbar{}PubMed:24916387\\}. Endoplasmic reticulum \\{ECO:0000250\\}. Cytoplasm \\{ECO:0000269\\textbar{}PubMed:12881431\\}. Note=Predominantly nuclear where it localizes to heterochromatin. Also cytoplasmic where it is found at the outer surface of the endoplasmic reticulum (By similarity). Shuttles between the nucleus and cytoplasm. May be transported into the nucleus by the nuclear import protein TNPO2/TRN2 or by APOBEC1. \\{ECO:0000250\\}.\\\\\n",
       "\t P01023 & A2M     & CPAMD5          & reviewed & A2MG\\_HUMAN  & Alpha-2-macroglobulin (Alpha-2-M) (C3 and PZP-like alpha-2-macroglobulin domain-containing protein 5)                                                                                                                                                                                                                 & 3D-structure;Bait region;Direct protein sequencing;Disulfide bond;Glycoprotein;Isopeptide bond;Protease inhibitor;Reference proteome;Secreted;Serine protease inhibitor;Signal;Thioester bond & SUBCELLULAR LOCATION: Secreted \\{ECO:0000269\\textbar{}PubMed:6203908\\}.                                                                                                                                                                                                                                                                                                                                                                                                                                          \\\\\n",
       "\t A8K2U0 & A2ML1   & CPAMD9          & reviewed & A2ML1\\_HUMAN & Alpha-2-macroglobulin-like protein 1 (C3 and PZP-like alpha-2-macroglobulin domain-containing protein 9)                                                                                                                                                                                                              & 3D-structure;Alternative splicing;Bait region;Disulfide bond;Glycoprotein;Protease inhibitor;Reference proteome;Secreted;Serine protease inhibitor;Signal;Thioester bond                      & SUBCELLULAR LOCATION: Secreted \\{ECO:0000269\\textbar{}PubMed:16298998\\}.                                                                                                                                                                                                                                                                                                                                                                                                                                         \\\\\n",
       "\t U3KPV4 & A3GALT2 & A3GALT2P IGBS3S & reviewed & A3LT2\\_HUMAN & Alpha-1,3-galactosyltransferase 2 (EC 2.4.1.87) (Isoglobotriaosylceramide synthase) (iGb3 synthase) (iGb3S)                                                                                                                                                                                                           & Glycoprotein;Glycosyltransferase;Golgi apparatus;Lipid metabolism;Manganese;Membrane;Metal-binding;Reference proteome;Signal-anchor;Transferase;Transmembrane;Transmembrane helix             & SUBCELLULAR LOCATION: Golgi apparatus, Golgi stack membrane \\{ECO:0000250\\textbar{}UniProtKB:A0A4Z3\\}; Single-pass type II membrane protein \\{ECO:0000250\\textbar{}UniProtKB:A0A4Z3\\}. Note=Also found in numerous large vesicles throughout the cytoplasm of the soma. \\{ECO:0000250\\textbar{}UniProtKB:A0A4Z3\\}.                                                                                                                                                                                                                     \\\\\n",
       "\t Q9NPC4 & A4GALT  & A14GALT A4GALT1 & reviewed & A4GAT\\_HUMAN & Lactosylceramide 4-alpha-galactosyltransferase (EC 2.4.1.228) (Alpha-1,4-N-acetylglucosaminyltransferase) (Alpha-1,4-galactosyltransferase) (Alpha4Gal-T1) (CD77 synthase) (Globotriaosylceramide synthase) (Gb3 synthase) (P1/Pk synthase) (UDP-galactose:beta-D-galactosyl-beta1-R 4-alpha-D-galactosyltransferase) & Glycoprotein;Glycosyltransferase;Golgi apparatus;Lipid biosynthesis;Lipid metabolism;Membrane;Reference proteome;Signal-anchor;Transferase;Transmembrane;Transmembrane helix                  & SUBCELLULAR LOCATION: Golgi apparatus membrane \\{ECO:0000305\\}; Single-pass type II membrane protein \\{ECO:0000305\\}.                                                                                                                                                                                                                                                                                                                                                                                     \\\\\n",
       "\\end{tabular}\n"
      ],
      "text/markdown": [
       "\n",
       "A tibble: 6 × 8\n",
       "\n",
       "| EntryID.uniprot &lt;chr&gt; | Symbol &lt;chr&gt; | Synonym &lt;chr&gt; | Reviewed &lt;chr&gt; | EntryName &lt;chr&gt; | ProteinName &lt;chr&gt; | Keywords &lt;chr&gt; | Location &lt;chr&gt; |\n",
       "|---|---|---|---|---|---|---|---|\n",
       "| P04217 | A1BG    | NA              | reviewed | A1BG_HUMAN  | Alpha-1B-glycoprotein (Alpha-1-B glycoprotein)                                                                                                                                                                                                                                                                        | Alternative splicing;Direct protein sequencing;Disulfide bond;Glycoprotein;Immunoglobulin domain;Reference proteome;Repeat;Secreted;Signal                                                    | SUBCELLULAR LOCATION: Secreted.                                                                                                                                                                                                                                                                                                                                                                                                                                                                        |\n",
       "| Q9NQ94 | A1CF    | ACF ASP         | reviewed | A1CF_HUMAN  | APOBEC1 complementation factor (APOBEC1-stimulating protein)                                                                                                                                                                                                                                                          | 3D-structure;Alternative splicing;Cytoplasm;Endoplasmic reticulum;mRNA processing;Nucleus;Phosphoprotein;Reference proteome;Repeat;RNA-binding                                                | SUBCELLULAR LOCATION: Nucleus {ECO:0000269|PubMed:12881431, ECO:0000269|PubMed:24916387}. Endoplasmic reticulum {ECO:0000250}. Cytoplasm {ECO:0000269|PubMed:12881431}. Note=Predominantly nuclear where it localizes to heterochromatin. Also cytoplasmic where it is found at the outer surface of the endoplasmic reticulum (By similarity). Shuttles between the nucleus and cytoplasm. May be transported into the nucleus by the nuclear import protein TNPO2/TRN2 or by APOBEC1. {ECO:0000250}. |\n",
       "| P01023 | A2M     | CPAMD5          | reviewed | A2MG_HUMAN  | Alpha-2-macroglobulin (Alpha-2-M) (C3 and PZP-like alpha-2-macroglobulin domain-containing protein 5)                                                                                                                                                                                                                 | 3D-structure;Bait region;Direct protein sequencing;Disulfide bond;Glycoprotein;Isopeptide bond;Protease inhibitor;Reference proteome;Secreted;Serine protease inhibitor;Signal;Thioester bond | SUBCELLULAR LOCATION: Secreted {ECO:0000269|PubMed:6203908}.                                                                                                                                                                                                                                                                                                                                                                                                                                           |\n",
       "| A8K2U0 | A2ML1   | CPAMD9          | reviewed | A2ML1_HUMAN | Alpha-2-macroglobulin-like protein 1 (C3 and PZP-like alpha-2-macroglobulin domain-containing protein 9)                                                                                                                                                                                                              | 3D-structure;Alternative splicing;Bait region;Disulfide bond;Glycoprotein;Protease inhibitor;Reference proteome;Secreted;Serine protease inhibitor;Signal;Thioester bond                      | SUBCELLULAR LOCATION: Secreted {ECO:0000269|PubMed:16298998}.                                                                                                                                                                                                                                                                                                                                                                                                                                          |\n",
       "| U3KPV4 | A3GALT2 | A3GALT2P IGBS3S | reviewed | A3LT2_HUMAN | Alpha-1,3-galactosyltransferase 2 (EC 2.4.1.87) (Isoglobotriaosylceramide synthase) (iGb3 synthase) (iGb3S)                                                                                                                                                                                                           | Glycoprotein;Glycosyltransferase;Golgi apparatus;Lipid metabolism;Manganese;Membrane;Metal-binding;Reference proteome;Signal-anchor;Transferase;Transmembrane;Transmembrane helix             | SUBCELLULAR LOCATION: Golgi apparatus, Golgi stack membrane {ECO:0000250|UniProtKB:A0A4Z3}; Single-pass type II membrane protein {ECO:0000250|UniProtKB:A0A4Z3}. Note=Also found in numerous large vesicles throughout the cytoplasm of the soma. {ECO:0000250|UniProtKB:A0A4Z3}.                                                                                                                                                                                                                      |\n",
       "| Q9NPC4 | A4GALT  | A14GALT A4GALT1 | reviewed | A4GAT_HUMAN | Lactosylceramide 4-alpha-galactosyltransferase (EC 2.4.1.228) (Alpha-1,4-N-acetylglucosaminyltransferase) (Alpha-1,4-galactosyltransferase) (Alpha4Gal-T1) (CD77 synthase) (Globotriaosylceramide synthase) (Gb3 synthase) (P1/Pk synthase) (UDP-galactose:beta-D-galactosyl-beta1-R 4-alpha-D-galactosyltransferase) | Glycoprotein;Glycosyltransferase;Golgi apparatus;Lipid biosynthesis;Lipid metabolism;Membrane;Reference proteome;Signal-anchor;Transferase;Transmembrane;Transmembrane helix                  | SUBCELLULAR LOCATION: Golgi apparatus membrane {ECO:0000305}; Single-pass type II membrane protein {ECO:0000305}.                                                                                                                                                                                                                                                                                                                                                                                      |\n",
       "\n"
      ],
      "text/plain": [
       "  EntryID.uniprot Symbol  Synonym         Reviewed EntryName  \n",
       "1 P04217          A1BG    NA              reviewed A1BG_HUMAN \n",
       "2 Q9NQ94          A1CF    ACF ASP         reviewed A1CF_HUMAN \n",
       "3 P01023          A2M     CPAMD5          reviewed A2MG_HUMAN \n",
       "4 A8K2U0          A2ML1   CPAMD9          reviewed A2ML1_HUMAN\n",
       "5 U3KPV4          A3GALT2 A3GALT2P IGBS3S reviewed A3LT2_HUMAN\n",
       "6 Q9NPC4          A4GALT  A14GALT A4GALT1 reviewed A4GAT_HUMAN\n",
       "  ProteinName                                                                                                                                                                                                                                                                                                          \n",
       "1 Alpha-1B-glycoprotein (Alpha-1-B glycoprotein)                                                                                                                                                                                                                                                                       \n",
       "2 APOBEC1 complementation factor (APOBEC1-stimulating protein)                                                                                                                                                                                                                                                         \n",
       "3 Alpha-2-macroglobulin (Alpha-2-M) (C3 and PZP-like alpha-2-macroglobulin domain-containing protein 5)                                                                                                                                                                                                                \n",
       "4 Alpha-2-macroglobulin-like protein 1 (C3 and PZP-like alpha-2-macroglobulin domain-containing protein 9)                                                                                                                                                                                                             \n",
       "5 Alpha-1,3-galactosyltransferase 2 (EC 2.4.1.87) (Isoglobotriaosylceramide synthase) (iGb3 synthase) (iGb3S)                                                                                                                                                                                                          \n",
       "6 Lactosylceramide 4-alpha-galactosyltransferase (EC 2.4.1.228) (Alpha-1,4-N-acetylglucosaminyltransferase) (Alpha-1,4-galactosyltransferase) (Alpha4Gal-T1) (CD77 synthase) (Globotriaosylceramide synthase) (Gb3 synthase) (P1/Pk synthase) (UDP-galactose:beta-D-galactosyl-beta1-R 4-alpha-D-galactosyltransferase)\n",
       "  Keywords                                                                                                                                                                                     \n",
       "1 Alternative splicing;Direct protein sequencing;Disulfide bond;Glycoprotein;Immunoglobulin domain;Reference proteome;Repeat;Secreted;Signal                                                   \n",
       "2 3D-structure;Alternative splicing;Cytoplasm;Endoplasmic reticulum;mRNA processing;Nucleus;Phosphoprotein;Reference proteome;Repeat;RNA-binding                                               \n",
       "3 3D-structure;Bait region;Direct protein sequencing;Disulfide bond;Glycoprotein;Isopeptide bond;Protease inhibitor;Reference proteome;Secreted;Serine protease inhibitor;Signal;Thioester bond\n",
       "4 3D-structure;Alternative splicing;Bait region;Disulfide bond;Glycoprotein;Protease inhibitor;Reference proteome;Secreted;Serine protease inhibitor;Signal;Thioester bond                     \n",
       "5 Glycoprotein;Glycosyltransferase;Golgi apparatus;Lipid metabolism;Manganese;Membrane;Metal-binding;Reference proteome;Signal-anchor;Transferase;Transmembrane;Transmembrane helix            \n",
       "6 Glycoprotein;Glycosyltransferase;Golgi apparatus;Lipid biosynthesis;Lipid metabolism;Membrane;Reference proteome;Signal-anchor;Transferase;Transmembrane;Transmembrane helix                 \n",
       "  Location                                                                                                                                                                                                                                                                                                                                                                                                                                                                                              \n",
       "1 SUBCELLULAR LOCATION: Secreted.                                                                                                                                                                                                                                                                                                                                                                                                                                                                       \n",
       "2 SUBCELLULAR LOCATION: Nucleus {ECO:0000269|PubMed:12881431, ECO:0000269|PubMed:24916387}. Endoplasmic reticulum {ECO:0000250}. Cytoplasm {ECO:0000269|PubMed:12881431}. Note=Predominantly nuclear where it localizes to heterochromatin. Also cytoplasmic where it is found at the outer surface of the endoplasmic reticulum (By similarity). Shuttles between the nucleus and cytoplasm. May be transported into the nucleus by the nuclear import protein TNPO2/TRN2 or by APOBEC1. {ECO:0000250}.\n",
       "3 SUBCELLULAR LOCATION: Secreted {ECO:0000269|PubMed:6203908}.                                                                                                                                                                                                                                                                                                                                                                                                                                          \n",
       "4 SUBCELLULAR LOCATION: Secreted {ECO:0000269|PubMed:16298998}.                                                                                                                                                                                                                                                                                                                                                                                                                                         \n",
       "5 SUBCELLULAR LOCATION: Golgi apparatus, Golgi stack membrane {ECO:0000250|UniProtKB:A0A4Z3}; Single-pass type II membrane protein {ECO:0000250|UniProtKB:A0A4Z3}. Note=Also found in numerous large vesicles throughout the cytoplasm of the soma. {ECO:0000250|UniProtKB:A0A4Z3}.                                                                                                                                                                                                                     \n",
       "6 SUBCELLULAR LOCATION: Golgi apparatus membrane {ECO:0000305}; Single-pass type II membrane protein {ECO:0000305}.                                                                                                                                                                                                                                                                                                                                                                                     "
      ]
     },
     "metadata": {},
     "output_type": "display_data"
    },
    {
     "data": {
      "text/html": [
       "<style>\n",
       ".list-inline {list-style: none; margin:0; padding: 0}\n",
       ".list-inline>li {display: inline-block}\n",
       ".list-inline>li:not(:last-child)::after {content: \"\\00b7\"; padding: 0 .5ex}\n",
       "</style>\n",
       "<ol class=list-inline><li>'Secreted Signaling'</li><li>'ECM-Receptor'</li><li>'Cell-Cell Contact'</li><li>'Non-protein Signaling'</li></ol>\n"
      ],
      "text/latex": [
       "\\begin{enumerate*}\n",
       "\\item 'Secreted Signaling'\n",
       "\\item 'ECM-Receptor'\n",
       "\\item 'Cell-Cell Contact'\n",
       "\\item 'Non-protein Signaling'\n",
       "\\end{enumerate*}\n"
      ],
      "text/markdown": [
       "1. 'Secreted Signaling'\n",
       "2. 'ECM-Receptor'\n",
       "3. 'Cell-Cell Contact'\n",
       "4. 'Non-protein Signaling'\n",
       "\n",
       "\n"
      ],
      "text/plain": [
       "[1] \"Secreted Signaling\"    \"ECM-Receptor\"          \"Cell-Cell Contact\"    \n",
       "[4] \"Non-protein Signaling\""
      ]
     },
     "metadata": {},
     "output_type": "display_data"
    },
    {
     "name": "stderr",
     "output_type": "stream",
     "text": [
      "Warning message in asMethod(object):\n",
      "“sparse->dense coercion: allocating vector of size 1.1 GiB”\n",
      "Warning message in asMethod(object):\n",
      "“sparse->dense coercion: allocating vector of size 1.1 GiB”\n"
     ]
    }
   ],
   "source": [
    "#######计算受配体对和信号通路强度\n",
    "#######\n",
    "groupSize <- as.numeric(table(cellchat@idents))  \n",
    "#查看每个cluster有多少个细胞，后面画图的时候需要用到这个值\n",
    "groupSize\n",
    "# [1] 711 480 472 344 279 162 144  32  14\n",
    "\n",
    "CellChatDB <- CellChatDB.human\n",
    "#导入小鼠是CellChatDB <- CellChatDB.mouse\n",
    "str(CellChatDB) #查看数据库信息\n",
    "#包含interaction、complex、cofactor和geneInfo这4个dataframe\n",
    "colnames(CellChatDB$interaction) \n",
    "CellChatDB$interaction[1:4,1:4]\n",
    "head(CellChatDB$cofactor)\n",
    "head(CellChatDB$complex)\n",
    "head(CellChatDB$geneInfo)\n",
    "#dev.new() #下一步不出图的时候运行\n",
    "showDatabaseCategory(CellChatDB)\n",
    "\n",
    "unique(CellChatDB$interaction$annotation)#查看可以选择的侧面，也就是上图左中的三种\n",
    "#选择\"Secreted Signaling\"进行后续细胞互作分析\n",
    "CellChatDB.use <- subsetDB(CellChatDB, search = \"Secreted Signaling\") \n",
    "# use all CellChatDB for cell-cell communication analysis\n",
    "# CellChatDB.use <- CellChatDB # simply use the default CellChatDB\n",
    "# set the used database in the object\n",
    "cellchat@DB <- CellChatDB.use # set the used database in the object\n",
    "\n",
    "## 在矩阵的所有的基因中提取signaling gene，结果保存在data.signaling(13714个基因，过滤完只有270个）\n",
    "cellchat <- subsetData(cellchat)\n",
    "#future::plan(\"multiprocess\", workers = 4)\n",
    "future::plan(\"multisession\", workers = 16)\n",
    "#相当于Seurat的FindMarkers，找每个细胞群中高表达的配体受体\n",
    "cellchat <- identifyOverExpressedGenes(cellchat)\n",
    "cellchat <- identifyOverExpressedInteractions(cellchat) #Identify over-expressed ligand-receptor interactions (pairs) within the used CellChatDB\n",
    "#上一步运行的结果储存在cellchat@LR$LRsig\n",
    "cellchat <- projectData(cellchat, PPI.human) \n",
    "#找到配体受体关系后，projectData将配体受体对的表达值投射到PPI上，来对@data.signaling中的表达值进行校正。结果保存在@data.project\n",
    "# 将限制扩大到16GB（根据数据大小调整）\n",
    "options(future.globals.maxSize = 4 * 1024^3)  # 16GB\n",
    "\n",
    "#根据表达值推测细胞互作的概率（cellphonedb是用平均表达值代表互作强度）。\n",
    "cellchat <- computeCommunProb(cellchat, raw.use = FALSE, population.size = TRUE) #如果不想用上一步PPI矫正的结果，raw.use = TRUE即可。\n",
    "# Filter out the cell-cell communication if there are only few number of cells in certain cell groups\n",
    "cellchat <- filterCommunication(cellchat, min.cells = 10)\n",
    "df.net <- subsetCommunication(cellchat)\n",
    "write.csv(df.net, \"net_lr.csv\")\n",
    "\n",
    "cellchat <- computeCommunProbPathway(cellchat)\n",
    "df.netp <- subsetCommunication(cellchat, slot.name = \"netP\")\n",
    "write.csv(df.netp, \"net_pathway.csv\")\n",
    "\n",
    "#统计细胞和细胞之间通信的数量（有多少个配体-受体对）和强度（概率）\n",
    "cellchat <- aggregateNet(cellchat)\n",
    "#计算每种细胞各有多少个\n",
    "groupSize <- as.numeric(table(cellchat@idents))\n",
    "#par(mfrow = c(1,2), xpd=TRUE)\n"
   ]
  },
  {
   "cell_type": "code",
   "execution_count": null,
   "id": "63a57661-e60d-426a-b245-0e781c4e7ee7",
   "metadata": {
    "tags": []
   },
   "outputs": [],
   "source": [
    "# 保存整体交互数量和强度图\n",
    "pdf(\"interaction_numbers.pdf\", width = 10, height = 5)\n",
    "netVisual_circle(cellchat@net$count, vertex.weight = groupSize, weight.scale = T, \n",
    "                 label.edge = F, title.name = \"Number of interactions\")\n",
    "dev.off()\n",
    "\n",
    "pdf(\"interaction_strength.pdf\", width = 10, height = 5)\n",
    "netVisual_circle(cellchat@net$weight, vertex.weight = groupSize, weight.scale = T, \n",
    "                 label.edge= F, title.name = \"Interaction strength\")\n",
    "dev.off()"
   ]
  },
  {
   "cell_type": "code",
   "execution_count": null,
   "id": "c0a80046-1ad4-4a40-b521-344a68ab6302",
   "metadata": {
    "tags": []
   },
   "outputs": [],
   "source": [
    "#####绘制单个细胞类群的互作小图\n",
    "# 创建小图存储目录（如果不存在）\n",
    "if (!dir.exists(\"net_number_plots\")) dir.create(\"net_number_plots\")\n",
    "if (!dir.exists(\"net_strength_plots\")) dir.create(\"net_strength_plots\")\n",
    "\n",
    "# 批量保存单个细胞群的交互数量图（count）到 net_number_plots 文件夹\n",
    "mat <- cellchat@net$count\n",
    "for (i in 1:nrow(mat)) {\n",
    "  pdf(paste0(\"net_number_plots/net_number_\", rownames(mat)[i], \".pdf\"), \n",
    "      width = 6, height = 6)\n",
    "  mat2 <- matrix(0, nrow = nrow(mat), ncol = ncol(mat), dimnames = dimnames(mat))\n",
    "  mat2[i, ] <- mat[i, ]\n",
    "  netVisual_circle(mat2, vertex.weight = groupSize, weight.scale = T, \n",
    "                   arrow.width = 0.2, arrow.size = 0.1, \n",
    "                   edge.weight.max = max(mat), title.name = rownames(mat)[i])\n",
    "  dev.off()\n",
    "}\n",
    "\n",
    "# 批量保存单个细胞群的交互强度图（weight）到 net_strength_plots 文件夹\n",
    "mat <- cellchat@net$weight\n",
    "for (i in 1:nrow(mat)) {\n",
    "  pdf(paste0(\"net_strength_plots/net_strength_\", rownames(mat)[i], \".pdf\"), \n",
    "      width = 6, height = 6)\n",
    "  mat2 <- matrix(0, nrow = nrow(mat), ncol = ncol(mat), dimnames = dimnames(mat))\n",
    "  mat2[i, ] <- mat[i, ]\n",
    "  netVisual_circle(mat2, vertex.weight = groupSize, weight.scale = T, \n",
    "                   arrow.width = 0.2, arrow.size = 0.1, \n",
    "                   edge.weight.max = max(mat), title.name = rownames(mat)[i])\n",
    "  dev.off()\n",
    "}"
   ]
  },
  {
   "cell_type": "code",
   "execution_count": null,
   "id": "ab9704f7-324f-4cfe-8cf2-34d02ea10c18",
   "metadata": {
    "tags": []
   },
   "outputs": [],
   "source": [
    "mat <- cellchat@net$weight\n",
    "par(mfrow = c(4,5), xpd=T)\n",
    "for (i in 1:nrow(mat)) {\n",
    "      mat2 <- matrix(0, nrow = nrow(mat), ncol = ncol(mat), dimnames = dimnames(mat))\n",
    "      mat2[i, ] <- mat[i, ]\n",
    "      netVisual_circle(mat2, vertex.weight = groupSize, weight.scale = T, arrow.width = 0.4,\n",
    "                       arrow.size = 0.2, edge.weight.max = max(mat), title.name = rownames(mat)[i])\n",
    "    }"
   ]
  },
  {
   "cell_type": "code",
   "execution_count": null,
   "id": "94224bc6-eb85-4708-b1ba-0ef69d51432d",
   "metadata": {
    "tags": []
   },
   "outputs": [],
   "source": [
    "cellchat@netP$pathways  #查看都有哪些信号通路"
   ]
  },
  {
   "cell_type": "code",
   "execution_count": null,
   "id": "f5fb1f9d-f399-4a3d-8237-6f0a9b6c86df",
   "metadata": {
    "tags": []
   },
   "outputs": [],
   "source": [
    "pathways.show <- c(\"SPP1\")  \n",
    "levels(cellchat@idents)    # show all celltype\n",
    "par(mfrow=c(1,1))\n",
    "netVisual_aggregate(cellchat, signaling = pathways.show, layout = \"circle\")\n",
    "# save as TIL/CXCL_circle.pdf"
   ]
  },
  {
   "cell_type": "code",
   "execution_count": null,
   "id": "657ecbe7-5528-4f95-8985-aff9484fe092",
   "metadata": {
    "tags": []
   },
   "outputs": [],
   "source": [
    "par(mfrow=c(1,1))\n",
    "netVisual_aggregate(cellchat, signaling = pathways.show, layout = \"circle\")\n",
    "# save as TIL/CXCL_circle.pdf"
   ]
  },
  {
   "cell_type": "code",
   "execution_count": null,
   "id": "ef3c41a1-d1fb-4bdb-b5c7-b426faead91b",
   "metadata": {
    "tags": []
   },
   "outputs": [],
   "source": [
    "#计算配体受体对选定信号通路的贡献值（在这里就是查看哪条信号通路对TGFb贡献最大）\n",
    "netAnalysis_contribution(cellchat, signaling = pathways.show)\n",
    "pairLR.TGFb <- extractEnrichedLR(cellchat, signaling = pathways.show, geneLR.return = FALSE) #提取对TGFb有贡献的所有配体受体 \n",
    "# save as TIL/CXCL_LR_contribution.pdf"
   ]
  },
  {
   "cell_type": "code",
   "execution_count": null,
   "id": "a193fc84-0ca8-4535-a905-6d99c0e97e3f",
   "metadata": {
    "tags": []
   },
   "outputs": [],
   "source": [
    "par(mfrow=c(1,1))\n",
    "netVisual_heatmap(cellchat, signaling = pathways.show, color.heatmap = \"Reds\")\n",
    "# save as TIL/CXCL_heatmap.pdf"
   ]
  },
  {
   "cell_type": "code",
   "execution_count": null,
   "id": "4c90ffce-8d0a-4c66-b1d0-3455ab0f84f3",
   "metadata": {
    "tags": []
   },
   "outputs": [],
   "source": [
    "levels(cellchat@idents)"
   ]
  },
  {
   "cell_type": "code",
   "execution_count": null,
   "id": "e90d654d-020d-49a7-af3f-9057cea40667",
   "metadata": {
    "tags": []
   },
   "outputs": [],
   "source": [
    "levels(cellchat@idents)\n",
    "# show all the significant interactions (L-R pairs)\n",
    "#需要指定受体细胞和配体细胞\n",
    "p = netVisual_bubble(cellchat, sources.use = c(1,2,3,4,5,6,8), \n",
    "                     targets.use = c(7), remove.isolate = FALSE,font.size=10)\n",
    "ggsave(\"LR_bubble.pdf\", p, width = 7, height =10) #髓系对淋巴的调节\n",
    "# save as TIL/Mye_Lymph_bubble.pdf"
   ]
  },
  {
   "cell_type": "code",
   "execution_count": null,
   "id": "a470594b-61a0-4c69-a784-56834ce12028",
   "metadata": {
    "tags": []
   },
   "outputs": [],
   "source": [
    "## Plot the signaling gene expression distribution\n",
    "p = plotGeneExpression(cellchat, signaling = \"SPP1\")\n",
    "ggsave(\"SPP1_GeneExpression_vln.pdf\", p, width = 8, height = 8)\n",
    "p = plotGeneExpression(cellchat, signaling = \"SPP1\", type = \"dot\")\n",
    "ggsave(\"SPP1_GeneExpression_dot.pdf\", p, width = 8, height = 6)"
   ]
  },
  {
   "cell_type": "code",
   "execution_count": 18,
   "id": "330301fa-c54d-4b65-92fc-6760f49f9d94",
   "metadata": {
    "execution": {
     "iopub.execute_input": "2025-06-25T13:35:15.236235Z",
     "iopub.status.busy": "2025-06-25T13:35:15.234011Z",
     "iopub.status.idle": "2025-06-25T13:35:15.254724Z",
     "shell.execute_reply": "2025-06-25T13:35:15.252374Z"
    }
   },
   "outputs": [
    {
     "name": "stdout",
     "output_type": "stream",
     "text": [
      "[1] \"aa\"\n"
     ]
    }
   ],
   "source": [
    "print('aa')"
   ]
  },
  {
   "cell_type": "code",
   "execution_count": null,
   "id": "a8c0e9be-0642-4b9e-abdb-9be500f195e5",
   "metadata": {},
   "outputs": [],
   "source": [
    "#We can also show differential number of interactions or interaction strength in a greater details using a heatmap. The top colored bar plot represents the sum of column of values displayed in the heatmap (incoming signaling). The right colored bar plot represents the sum of row of values (outgoing signaling). In the colorbar, red\n",
    "#(or blue) represents increased(or decreased) signaling in the second dataset compared to the first one.\n",
    "gg1 <- netVisual_heatmap(cellchat)\n",
    "#> Do heatmap based on a merged object\n",
    "gg2 <- netVisual_heatmap(cellchat, measure = \"weight\")\n",
    "#> Do heatmap based on a merged object\n",
    "gg1 + gg2"
   ]
  },
  {
   "cell_type": "code",
   "execution_count": null,
   "id": "49321fc2-2872-4dae-b794-df3a2ecfabd6",
   "metadata": {
    "execution": {
     "iopub.execute_input": "2025-06-25T13:32:48.876421Z",
     "iopub.status.busy": "2025-06-25T13:32:48.875249Z",
     "iopub.status.idle": "2025-06-25T13:34:11.564551Z"
    },
    "tags": []
   },
   "outputs": [
    {
     "ename": "ERROR",
     "evalue": "Error in netAnalysis_signalingRole_network(cellchat, signaling = pathways.show, : object 'pathways.show' not found\n",
     "output_type": "error",
     "traceback": [
      "Error in netAnalysis_signalingRole_network(cellchat, signaling = pathways.show, : object 'pathways.show' not found\nTraceback:\n",
      "1. netAnalysis_signalingRole_network(cellchat, signaling = pathways.show, \n .     width = 10, height = 2.5, font.size = 10)"
     ]
    }
   ],
   "source": [
    "cellchat <- netAnalysis_computeCentrality(cellchat, slot.name =\"netP\")\n",
    "netAnalysis_signalingRole_network(cellchat, signaling = pathways.show,width = 10, height = 2.5, font.size = 10)\n",
    "df.netp <- subsetCommunication(cellchat, slot.name =\"netP\",signaling = pathways.show)"
   ]
  },
  {
   "cell_type": "code",
   "execution_count": null,
   "id": "ee89b05c-b88e-4072-b0a9-ad6409966215",
   "metadata": {
    "tags": []
   },
   "outputs": [],
   "source": [
    "pathways.show <- cellchat@netP$pathways"
   ]
  },
  {
   "cell_type": "code",
   "execution_count": null,
   "id": "5ddb581a-ad4b-43f5-90c9-fc23b3b1f371",
   "metadata": {
    "tags": []
   },
   "outputs": [],
   "source": [
    "pdf(\"interaction.pdf\", width = 10, height = 5)\n",
    "netAnalysis_signalingRole_network(cellchat, signaling = pathways.show,width = 10, height = 2.5, font.size = 10)\n",
    "dev.off()"
   ]
  },
  {
   "cell_type": "code",
   "execution_count": null,
   "id": "087fb415-5ed1-4601-a401-244ad3f7c6ab",
   "metadata": {},
   "outputs": [],
   "source": [
    "# 保存为 .rds 文件（二进制格式，保留所有信息）\n",
    "saveRDS(cellchat, file = \"cellchat_object.rds\")"
   ]
  },
  {
   "cell_type": "code",
   "execution_count": null,
   "id": "751e033b-fbca-4b31-b956-d9db3fc00c49",
   "metadata": {},
   "outputs": [],
   "source": [
    "aa<- readRDS(\"cellchat_object.rds\")"
   ]
  },
  {
   "cell_type": "code",
   "execution_count": null,
   "id": "4b8272d0-a87e-4a52-8f24-9898dcb9ff5c",
   "metadata": {
    "tags": []
   },
   "outputs": [],
   "source": [
    "pdf(\"outgoing.pdf\", width = 10, height = 10)\n",
    "netAnalysis_signalingRole_heatmap(cellchat, pattern =\"outgoing\",font.size = 5)\n",
    "dev.off()"
   ]
  },
  {
   "cell_type": "code",
   "execution_count": null,
   "id": "fa98e5b5-99b2-4906-baea-e673859d07bd",
   "metadata": {},
   "outputs": [],
   "source": [
    "pdf(\"incoming.pdf\", width = 10, height = 10)\n",
    "netAnalysis_signalingRole_heatmap(cellchat, pattern =\"incoming\",font.size = 5)\n",
    "dev.off()"
   ]
  },
  {
   "cell_type": "code",
   "execution_count": null,
   "id": "2bc6b74e-3c90-458d-85e6-6590c6e104c3",
   "metadata": {},
   "outputs": [],
   "source": [
    "cellchat@netP$pathways"
   ]
  },
  {
   "cell_type": "code",
   "execution_count": null,
   "id": "8e51da1f-ecb7-42c9-91ce-13fd3be4e98c",
   "metadata": {},
   "outputs": [],
   "source": [
    "cellchat"
   ]
  },
  {
   "cell_type": "code",
   "execution_count": null,
   "id": "3d3031aa-0a4d-4605-9303-111963b0bddd",
   "metadata": {},
   "outputs": [],
   "source": [
    "cellchat@netP"
   ]
  },
  {
   "cell_type": "code",
   "execution_count": null,
   "id": "193f23a8-42f0-4dcf-b0ff-adedadd5241b",
   "metadata": {},
   "outputs": [],
   "source": []
  }
 ],
 "metadata": {
  "kernelspec": {
   "display_name": "R",
   "language": "R",
   "name": "ir"
  },
  "language_info": {
   "codemirror_mode": "r",
   "file_extension": ".r",
   "mimetype": "text/x-r-source",
   "name": "R",
   "pygments_lexer": "r",
   "version": "4.1.3"
  }
 },
 "nbformat": 4,
 "nbformat_minor": 5
}
